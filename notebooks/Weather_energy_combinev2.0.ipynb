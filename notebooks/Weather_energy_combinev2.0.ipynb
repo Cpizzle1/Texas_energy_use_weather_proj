{
 "cells": [
  {
   "cell_type": "code",
   "execution_count": 1,
   "metadata": {},
   "outputs": [],
   "source": [
    "import pandas as pd\n",
    "import numpy as np\n",
    "import matplotlib.pyplot as plt\n",
    "plt.style.use('ggplot')\n",
    "import seaborn as sbn\n",
    "import scipy.stats as stats\n",
    "from pandas.plotting import scatter_matrix\n",
    "import statsmodels.api as sm\n",
    "import datetime as dt\n",
    "import pandasql as ps"
   ]
  },
  {
   "cell_type": "code",
   "execution_count": 2,
   "metadata": {},
   "outputs": [],
   "source": [
    "def change_cols_to_floats(dataframe,lst):\n",
    "    \n",
    "    for i in lst:\n",
    "        dataframe[i] = dataframe[i].str.replace(',', '')\n",
    "        dataframe[i] = dataframe[i].astype(float)\n",
    "    return dataframe\n",
    "def make_date_time_col(df):\n",
    "    df['Hour Number'] = df_total['Hour Number'].replace(24, 0)\n",
    "    df['Hour Number'] = df_total['Hour Number'].replace(25, 0)\n",
    "    df['Data Date']= df['Data Date'].astype(str)\n",
    "    df['Hour Number'] = df['Hour Number'].astype(str)\n",
    "    df['New_datetime'] = df['Data Date'].map(str) + \" \" + df['Hour Number']\n",
    "    df['Hour Number'] = df['Hour Number'].astype(int)\n",
    "    \n",
    "    return df\n",
    "\n",
    "def make_hourly_demand_means(df,lst):\n",
    "    d = {}\n",
    "    for i in lst:\n",
    "        filt =df['Hour Number']==i\n",
    "        d[i] = df.loc[filt]['Demand (MW)'].mean()\n",
    "    return d\n",
    "\n",
    "def graph_maker_for_energy_type_by_hour(df,column, lst = np.arange(0,24)):\n",
    "    \n",
    "    d= {}\n",
    "    for i in lst:\n",
    "        filt =df['Hour Number']==i\n",
    "        hour_avg = df.loc[filt][column].mean()\n",
    "        d[i]=hour_avg\n",
    "    x = d.keys()\n",
    "    y = d.values()\n",
    "    fig, ax =plt.subplots(figsize = (8,8))\n",
    "    ax.plot(x, y)\n",
    "    ax.set_title(column)\n",
    "    ax.set_xlabel('Time (Hours in Day)')\n",
    "    ax.set_xticks(lst)\n",
    "    \n",
    "    \n",
    "    plt.show()"
   ]
  },
  {
   "cell_type": "code",
   "execution_count": 3,
   "metadata": {},
   "outputs": [],
   "source": [
    "def temp_column_convert_float2(pd_series):\n",
    "    lst = []\n",
    "    for string in pd_series:\n",
    "        string = string.replace(u'\\xa0F','')\n",
    "        \n",
    "        lst.append(string)\n",
    "    \n",
    "    results = pd.Series(lst)\n",
    "    return results \n",
    "\n",
    "def press_column_convert_float2(pd_series):\n",
    "    lst = []\n",
    "    for string in pd_series:\n",
    "        string = string.replace(u'\\xa0in','')\n",
    "        if string == '0.00\\xa0':\n",
    "            string = '0.00'\n",
    "        lst.append(string)\n",
    "    \n",
    "    results = pd.Series(lst)\n",
    "#     results2 = results.astype(float)\n",
    "    return results\n",
    "\n",
    "def wind_column_convert(pd_series):\n",
    "    lst = []\n",
    "    for string in pd_series:\n",
    "        string = string.replace(u'\\xa0mph','')\n",
    "        if string == '0.00\\xa0':\n",
    "            string = '0.00'\n",
    "        lst.append(string)\n",
    "    \n",
    "    results = pd.Series(lst)\n",
    "#     results2 = results.astype(float)\n",
    "    return results\n",
    "\n",
    "def dew_column_convert_float2(pd_series):\n",
    "    lst = []\n",
    "    for string in pd_series:\n",
    "        string = string.replace(u'\\xa0F','')\n",
    "        \n",
    "        lst.append(string)\n",
    "    \n",
    "    results = pd.Series(lst)\n",
    "    return results "
   ]
  },
  {
   "cell_type": "code",
   "execution_count": 4,
   "metadata": {},
   "outputs": [],
   "source": [
    "def change_cols_to_floats2(dataframes_lst):\n",
    "    floated_dfs =[]\n",
    "    for df in dataframes_lst:\n",
    "        lst_cols = ['Demand (MW)','Net Generation (MW) from Natural Gas', 'Net Generation (MW) from Nuclear',\n",
    "                    'Net Generation (MW) from All Petroleum Products',\n",
    "                    'Net Generation (MW) from Hydropower and Pumped Storage', \n",
    "                    'Net Generation (MW) from Solar', 'Net Generation (MW) from Wind', \n",
    "                    'Net Generation (MW) from Other Fuel Sources','Net Generation (MW)',\n",
    "                    'Demand Forecast (MW)', 'Total Interchange (MW)', \n",
    "                    'Net Generation (MW) (Adjusted)','Net Generation (MW) from Coal',\n",
    "                    'Sum(Valid DIBAs) (MW)','Demand (MW) (Imputed)',\n",
    "                    'Net Generation (MW) (Imputed)','Demand (MW) (Adjusted)']\n",
    "        for i in lst_cols:\n",
    "            df[i] = df[i].str.replace(',', '')\n",
    "            df[i] = df[i].astype(float)\n",
    "            floated_dfs.append(df)\n",
    "        result = pd.concat(floated_dfs)\n",
    "    return result"
   ]
  },
  {
   "cell_type": "code",
   "execution_count": 5,
   "metadata": {},
   "outputs": [
    {
     "name": "stderr",
     "output_type": "stream",
     "text": [
      "/Users/cp/opt/anaconda3/lib/python3.7/site-packages/IPython/core/interactiveshell.py:3147: DtypeWarning: Columns (11,14,15,16,17,19,20,21) have mixed types.Specify dtype option on import or set low_memory=False.\n",
      "  interactivity=interactivity, compiler=compiler, result=result)\n",
      "/Users/cp/opt/anaconda3/lib/python3.7/site-packages/IPython/core/interactiveshell.py:3147: DtypeWarning: Columns (11,14,16,17,19,20,21) have mixed types.Specify dtype option on import or set low_memory=False.\n",
      "  interactivity=interactivity, compiler=compiler, result=result)\n"
     ]
    }
   ],
   "source": [
    "data = pd.read_csv('~/Downloads/EIA930_BALANCE_2020_Jan_Jun.csv')\n",
    "data_2 = pd.read_csv('~/Downloads/EIA930_BALANCE_2020_Jul_Dec.csv')\n",
    "\n",
    "data = data[data['Balancing Authority'] == 'ERCO']\n",
    "data_2 = data[data['Balancing Authority'] == 'ERCO']"
   ]
  },
  {
   "cell_type": "code",
   "execution_count": 6,
   "metadata": {},
   "outputs": [],
   "source": [
    "df_total = change_cols_to_floats2([data, data_2])\n",
    "# data_2_convert = change_cols_to_floats(data_2)"
   ]
  },
  {
   "cell_type": "code",
   "execution_count": 7,
   "metadata": {},
   "outputs": [],
   "source": [
    "def make_date_time_col2(df):\n",
    "    \n",
    "    df['Hour Number'] = df_total['Hour Number'].replace(24, 0)\n",
    "    df['Hour Number'] = df_total['Hour Number'].replace(25, 0)\n",
    "    df['Data Date']= df['Data Date'].astype(str)\n",
    "    df['Hour Number'] = df['Hour Number'].astype(str)\n",
    "    df['New_datetime'] = df['Data Date'].map(str) + \" \" + df['Hour Number']\n",
    "    df['Hour Number'] = df['Hour Number'].astype(int)\n",
    "    df['New_datetime']= df['New_datetime'].apply(lambda x:f'{x}:00:00')\n",
    "    df['New_datetime'] = pd.to_datetime(df['New_datetime'],infer_datetime_format=True, format ='%m/%d/%Y %H')\n",
    "    df['Demand Delta'] = df['Demand Forecast (MW)']- df['Demand (MW)']\n",
    "    df['Net Generation Delta'] = df['Net Generation (MW)']- df['Demand (MW)']\n",
    "    print('done')\n",
    "    return df"
   ]
  },
  {
   "cell_type": "code",
   "execution_count": 8,
   "metadata": {},
   "outputs": [],
   "source": [
    "def drop_extra_cols(df_texas):\n",
    "    del df_texas['UTC Time at End of Hour']\n",
    "    del df_texas['Balancing Authority']\n",
    "    del df_texas['Net Generation (MW) (Imputed)']\n",
    "    del df_texas['Demand (MW) (Imputed)']\n",
    "    del df_texas['Net Generation (MW) from All Petroleum Products']\n",
    "    del df_texas['Net Generation (MW) from Unknown Fuel Sources']\n",
    "    del df_texas['Data Date']\n",
    "    del df_texas['Hour Number']\n",
    "    del df_texas['Local Time at End of Hour']\n",
    "    return df_texas\n",
    "    "
   ]
  },
  {
   "cell_type": "code",
   "execution_count": 9,
   "metadata": {},
   "outputs": [
    {
     "name": "stdout",
     "output_type": "stream",
     "text": [
      "done\n"
     ]
    }
   ],
   "source": [
    "df_texas = make_date_time_col2(df_total)"
   ]
  },
  {
   "cell_type": "code",
   "execution_count": 10,
   "metadata": {},
   "outputs": [],
   "source": [
    "def make_hourly_demand_means2(df,lst=np.arange(0,24)):\n",
    "    \n",
    "    d = {}\n",
    "    for i in lst:\n",
    "        filt =df['Hour Number']==i\n",
    "        d[i] = df.loc[filt]['Demand (MW)'].mean()\n",
    "    return d"
   ]
  },
  {
   "cell_type": "code",
   "execution_count": 11,
   "metadata": {},
   "outputs": [],
   "source": [
    "df_texas1=  drop_extra_cols(df_texas)"
   ]
  },
  {
   "cell_type": "code",
   "execution_count": 12,
   "metadata": {},
   "outputs": [
    {
     "name": "stdout",
     "output_type": "stream",
     "text": [
      "<class 'pandas.core.frame.DataFrame'>\n",
      "Int64Index: 148478 entries, 66924 to 71290\n",
      "Data columns (total 17 columns):\n",
      " #   Column                                                  Non-Null Count   Dtype         \n",
      "---  ------                                                  --------------   -----         \n",
      " 0   Demand Forecast (MW)                                    148478 non-null  float64       \n",
      " 1   Demand (MW)                                             148478 non-null  float64       \n",
      " 2   Net Generation (MW)                                     148478 non-null  float64       \n",
      " 3   Total Interchange (MW)                                  148478 non-null  float64       \n",
      " 4   Sum(Valid DIBAs) (MW)                                   148478 non-null  float64       \n",
      " 5   Demand (MW) (Adjusted)                                  148478 non-null  float64       \n",
      " 6   Net Generation (MW) (Adjusted)                          148478 non-null  float64       \n",
      " 7   Net Generation (MW) from Coal                           148478 non-null  float64       \n",
      " 8   Net Generation (MW) from Natural Gas                    148478 non-null  float64       \n",
      " 9   Net Generation (MW) from Nuclear                        148478 non-null  float64       \n",
      " 10  Net Generation (MW) from Hydropower and Pumped Storage  148478 non-null  float64       \n",
      " 11  Net Generation (MW) from Solar                          148478 non-null  float64       \n",
      " 12  Net Generation (MW) from Wind                           148478 non-null  float64       \n",
      " 13  Net Generation (MW) from Other Fuel Sources             148478 non-null  float64       \n",
      " 14  New_datetime                                            148478 non-null  datetime64[ns]\n",
      " 15  Demand Delta                                            148478 non-null  float64       \n",
      " 16  Net Generation Delta                                    148478 non-null  float64       \n",
      "dtypes: datetime64[ns](1), float64(16)\n",
      "memory usage: 20.4 MB\n"
     ]
    }
   ],
   "source": [
    "df_texas1.info()"
   ]
  },
  {
   "cell_type": "markdown",
   "metadata": {},
   "source": [
    "# READ IN WEATHER CSV"
   ]
  },
  {
   "cell_type": "code",
   "execution_count": null,
   "metadata": {},
   "outputs": [],
   "source": [
    "df_dallas =pd.read_csv('/Users/cp/Desktop/capstone2/DALLASV2_FINAL_WEATHER.csv')"
   ]
  },
  {
   "cell_type": "code",
   "execution_count": null,
   "metadata": {},
   "outputs": [],
   "source": [
    "df_dallas['New_datetime'] = pd.to_datetime(df_dallas['New_datetime'],infer_datetime_format=True,format ='%m/%d/%Y %H')"
   ]
  },
  {
   "cell_type": "code",
   "execution_count": null,
   "metadata": {},
   "outputs": [],
   "source": [
    "Energy_Houston_weather=df_texas.merge(df_dallas, left_on ='New_datetime', right_on='New_datetime' )"
   ]
  },
  {
   "cell_type": "code",
   "execution_count": null,
   "metadata": {},
   "outputs": [],
   "source": [
    "Energy_Houston_weather['Cloud_numerical'] =  Energy_Houston_weather['cloud']"
   ]
  },
  {
   "cell_type": "code",
   "execution_count": null,
   "metadata": {},
   "outputs": [],
   "source": [
    "d1 =  {\n",
    "    'Fair':0\n",
    "    ,'Mostly Cloudy':2\n",
    "    ,'Cloudy':1\n",
    "    ,'Partly Cloudy':1\n",
    "    ,'Light Rain':2\n",
    "    , 'Light Drizzle':2\n",
    "    ,'Rain':2\n",
    "    ,'Light Rain with Thunder':2\n",
    "    ,'Heavy T-Storm':2\n",
    "    ,'Thunder':2\n",
    "    , 'Heavy Rain':2\n",
    "    ,'T-Storm':2\n",
    "    , 'Fog':2\n",
    "    , 'Mostly Cloudy / Windy':2\n",
    "    , 'Cloudy / Windy':2\n",
    "    , 'Haze':1\n",
    "    , 'Fair / Windy':0\n",
    "    , 'Partly Cloudy / Windy':1\n",
    "    , 'Light Rain / Windy':2\n",
    "    , 'Heavy T-Storm / Windy':2\n",
    "    , 'Heavy Rain / Windy':2\n",
    "    , 'Widespread Dust':1\n",
    "    , 'Thunder and Hail':2\n",
    "    ,'Thunder / Windy':2\n",
    "    ,'Blowing Dust':1\n",
    "    , 'Patches of Fog':1\n",
    "    , 'Blowing Dust / Windy':1\n",
    "    , 'Rain / Windy':2\n",
    "    , 'Fog / Windy':2\n",
    "    , 'Light Drizzle / Windy':2\n",
    "    , 'Haze / Windy':1\n",
    "    ,'Light Snow / Windy':1\n",
    "    , 'Light Snow':1\n",
    "    ,'T-Storm / Windy':2\n",
    "    ,'Light Sleet':1\n",
    "}"
   ]
  },
  {
   "cell_type": "code",
   "execution_count": null,
   "metadata": {},
   "outputs": [],
   "source": [
    "Energy_Houston_weather['Cloud_numerical'].replace(d1, inplace= True)\n",
    "# Energy_Houston_weather['Cloud_numerical'].astype(float)"
   ]
  },
  {
   "cell_type": "code",
   "execution_count": null,
   "metadata": {},
   "outputs": [],
   "source": [
    "Energy_Houston_weather['humidity'].unique()"
   ]
  },
  {
   "cell_type": "code",
   "execution_count": null,
   "metadata": {},
   "outputs": [],
   "source": [
    "def column_convert_float(pd_series):\n",
    "    lst = []\n",
    "    for i in pd_series:\n",
    "        lst1 = i.split('\\\\')\n",
    "        \n",
    "        lst.append(lst1[0])\n",
    "    \n",
    "    results = pd.Series(lst)\n",
    "    return results \n",
    "\n",
    "def temp_column_convert_float2(pd_series, df= Energy_Houston_weather):\n",
    "    lst = []\n",
    "    for string in pd_series:\n",
    "        string = string.replace(u'\\xa0F','')\n",
    "        \n",
    "        lst.append(string)\n",
    "    \n",
    "    results = pd.Series(lst)\n",
    "    df['temp1']= results\n",
    "    df['temp1'] = df['temp1'].astype(float)\n",
    "    return df\n",
    "\n",
    "def press_column_convert_float2(pd_series, df= Energy_Houston_weather):\n",
    "    lst = []\n",
    "    for string in pd_series:\n",
    "        string = string.replace(u'\\xa0in','')\n",
    "        if string == '0.00\\xa0':\n",
    "            string = '0.00'\n",
    "        lst.append(string)\n",
    "    \n",
    "    results = pd.Series(lst)\n",
    "\n",
    "    df['pressure1']= results\n",
    "    df['pressure1'] = df['pressure1'].astype(float)\n",
    "    return df\n",
    "\n",
    "def wind_column_convert(pd_series, df= Energy_Houston_weather):\n",
    "    lst = []\n",
    "    for string in pd_series:\n",
    "        string = string.replace(u'\\xa0mph','')\n",
    "        if string == '0.00\\xa0':\n",
    "            string = '0.00'\n",
    "        lst.append(string)\n",
    "    \n",
    "    results = pd.Series(lst)\n",
    "#     results2 = results.astype(float)\n",
    "    df['wind1']= results\n",
    "    df['wind1'] = df['wind1'].astype(float)\n",
    "    return df\n",
    "\n",
    "def dew_column_convert_float2(pd_series, df= Energy_Houston_weather):\n",
    "    lst = []\n",
    "    for string in pd_series:\n",
    "        string = string.replace(u'\\xa0F','')\n",
    "        \n",
    "        lst.append(string)\n",
    "    \n",
    "    results = pd.Series(lst)\n",
    "    df['dew1']= results\n",
    "    df['dew1'] = df['dew1'].astype(float)\n",
    "    return df\n",
    "\n",
    "def humidity_column_convert_float2(pd_series, df= Energy_Houston_weather):\n",
    "    lst = []\n",
    "    for string in pd_series:\n",
    "        string = string.replace(u'\\xa0%','')\n",
    "        \n",
    "        lst.append(string)\n",
    "    \n",
    "    results = pd.Series(lst)\n",
    "    df['humdity1']= results\n",
    "    df['humdity1'] = df['humdity1'].astype(float)\n",
    "    \n",
    "    \n",
    "    \n",
    "    return df\n",
    "\n"
   ]
  },
  {
   "cell_type": "code",
   "execution_count": null,
   "metadata": {},
   "outputs": [],
   "source": [
    "Energy_Houston_weather = humidity_column_convert_float2(Energy_Houston_weather['humidity'])"
   ]
  },
  {
   "cell_type": "code",
   "execution_count": null,
   "metadata": {},
   "outputs": [],
   "source": [
    "Energy_Houston_weather= press_column_convert_float2(Energy_Houston_weather['pressure'])"
   ]
  },
  {
   "cell_type": "code",
   "execution_count": null,
   "metadata": {},
   "outputs": [],
   "source": [
    "Energy_Houston_weather.info()"
   ]
  },
  {
   "cell_type": "code",
   "execution_count": null,
   "metadata": {},
   "outputs": [],
   "source": [
    "Energy_Houston_weather= dew_column_convert_float2(Energy_Houston_weather['dew'])"
   ]
  },
  {
   "cell_type": "code",
   "execution_count": null,
   "metadata": {},
   "outputs": [],
   "source": [
    "Energy_Houston_weather = temp_column_convert_float2(Energy_Houston_weather['temp'])"
   ]
  },
  {
   "cell_type": "code",
   "execution_count": null,
   "metadata": {},
   "outputs": [],
   "source": [
    "Energy_Houston_weather.info()"
   ]
  },
  {
   "cell_type": "code",
   "execution_count": null,
   "metadata": {},
   "outputs": [],
   "source": [
    "len(Energy_Houston_weather['Demand Delta'].unique())"
   ]
  },
  {
   "cell_type": "code",
   "execution_count": null,
   "metadata": {},
   "outputs": [],
   "source": [
    "def drop_extra_cols2(df):\n",
    "    del df['Demand Forecast (MW)']\n",
    "    del df['Demand (MW)']\n",
    "    del df['temp']\n",
    "    del df['dew']\n",
    "    del df['humidity']\n",
    "    del df['wind_speed']\n",
    "    del df['pressure']\n",
    "    del df['precip']\n",
    "    del df['cloud']\n",
    "    \n",
    "    del df['time_rounded4']\n",
    "    del df['New_datetime2']\n",
    "    \n",
    "    return df"
   ]
  },
  {
   "cell_type": "code",
   "execution_count": null,
   "metadata": {},
   "outputs": [],
   "source": [
    "Energy_Houston_weather = drop_extra_cols2(Energy_Houston_weather)"
   ]
  },
  {
   "cell_type": "code",
   "execution_count": null,
   "metadata": {},
   "outputs": [],
   "source": [
    "Energy_Houston_weather.info()"
   ]
  },
  {
   "cell_type": "code",
   "execution_count": null,
   "metadata": {},
   "outputs": [],
   "source": [
    "Energy_Houston_weather.to_csv (r'/Users/cp/Desktop/capstone2/DALLASV3_FINAL_WEATHER.csv', index = False, header=True)"
   ]
  },
  {
   "cell_type": "code",
   "execution_count": null,
   "metadata": {},
   "outputs": [],
   "source": [
    "Energy_Houston_weather"
   ]
  },
  {
   "cell_type": "markdown",
   "metadata": {},
   "source": [
    "# EXPLORATORY"
   ]
  },
  {
   "cell_type": "code",
   "execution_count": null,
   "metadata": {},
   "outputs": [],
   "source": [
    "Energy_Houston_weather['WEEKDAY'] = np.where((Energy_Houston_weather['New_datetime']).dt.dayofweek) < 5,0,1"
   ]
  },
  {
   "cell_type": "code",
   "execution_count": null,
   "metadata": {},
   "outputs": [],
   "source": [
    "data = pd.read_csv('~/Downloads/EIA930_BALANCE_2020_Jan_Jun.csv')\n",
    "data_2 = pd.read_csv('~/Downloads/EIA930_BALANCE_2020_Jul_Dec.csv')"
   ]
  },
  {
   "cell_type": "code",
   "execution_count": null,
   "metadata": {},
   "outputs": [],
   "source": [
    "data = data[data['Balancing Authority'] == 'ERCO']\n",
    "data_2 = data[data['Balancing Authority'] == 'ERCO']"
   ]
  },
  {
   "cell_type": "code",
   "execution_count": null,
   "metadata": {},
   "outputs": [],
   "source": [
    "graph_maker_for_energy_type_by_hour(df_total,'Demand Delta')"
   ]
  },
  {
   "cell_type": "code",
   "execution_count": null,
   "metadata": {},
   "outputs": [],
   "source": [
    "df_total.info()"
   ]
  },
  {
   "cell_type": "code",
   "execution_count": null,
   "metadata": {},
   "outputs": [],
   "source": [
    "df_total.head()"
   ]
  },
  {
   "cell_type": "code",
   "execution_count": null,
   "metadata": {},
   "outputs": [],
   "source": []
  }
 ],
 "metadata": {
  "kernelspec": {
   "display_name": "Python 3",
   "language": "python",
   "name": "python3"
  },
  "language_info": {
   "codemirror_mode": {
    "name": "ipython",
    "version": 3
   },
   "file_extension": ".py",
   "mimetype": "text/x-python",
   "name": "python",
   "nbconvert_exporter": "python",
   "pygments_lexer": "ipython3",
   "version": "3.7.9"
  }
 },
 "nbformat": 4,
 "nbformat_minor": 4
}
