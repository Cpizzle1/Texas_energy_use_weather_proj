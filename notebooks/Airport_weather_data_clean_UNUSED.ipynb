{
 "cells": [
  {
   "cell_type": "code",
   "execution_count": 1,
   "metadata": {},
   "outputs": [],
   "source": [
    "import pandas as pd\n",
    "import numpy as np\n",
    "import matplotlib.pyplot as plt\n",
    "plt.style.use('ggplot')\n",
    "import seaborn as sbn\n",
    "from sklearn.ensemble import RandomForestClassifier\n",
    "from sklearn.linear_model import LogisticRegression\n",
    "from sklearn.metrics import confusion_matrix, roc_curve, auc\n",
    "from sklearn.model_selection import train_test_split\n",
    "from sklearn.impute import KNNImputer\n",
    "from math import ceil\n",
    "\n",
    "import scipy.stats as stats\n",
    "from sklearn.metrics import mean_squared_error\n",
    "from sklearn.linear_model import LinearRegression\n",
    "from sklearn.pipeline import Pipeline\n",
    "\n",
    "import matplotlib.pyplot as plt\n",
    "\n",
    "from pandas.plotting import scatter_matrix\n",
    "\n",
    "from sklearn.linear_model import LinearRegression, Ridge, Lasso\n",
    "from sklearn.model_selection import train_test_split, KFold\n",
    "from sklearn.preprocessing import StandardScaler\n",
    "from sklearn.base import clone\n",
    "import scipy.stats as scs\n",
    "import statsmodels.api as sm\n",
    "\n",
    "\n",
    "\n",
    "\n",
    "from sklearn.datasets import make_classification\n",
    "from sklearn.linear_model import LogisticRegression\n",
    "from sklearn.model_selection import KFold, train_test_split\n",
    "from sklearn.metrics import accuracy_score, precision_score, recall_score\n",
    "\n",
    "\n",
    "import timeit\n",
    "import datetime as dt\n",
    "\n",
    "import pandasql as ps"
   ]
  },
  {
   "cell_type": "code",
   "execution_count": 6,
   "metadata": {},
   "outputs": [],
   "source": [
    "dfw = pd.read_csv('~/Downloads/DFW.csv')"
   ]
  },
  {
   "cell_type": "code",
   "execution_count": 7,
   "metadata": {},
   "outputs": [
    {
     "name": "stdout",
     "output_type": "stream",
     "text": [
      "<class 'pandas.core.frame.DataFrame'>\n",
      "RangeIndex: 100634 entries, 0 to 100633\n",
      "Data columns (total 29 columns):\n",
      " #   Column             Non-Null Count   Dtype  \n",
      "---  ------             --------------   -----  \n",
      " 0   station            100634 non-null  object \n",
      " 1   valid              100634 non-null  object \n",
      " 2   tmpf               10049 non-null   float64\n",
      " 3   dwpf               10049 non-null   float64\n",
      " 4   relh               10049 non-null   float64\n",
      " 5   drct               90056 non-null   float64\n",
      " 6   sknt               97058 non-null   float64\n",
      " 7   p01i               12445 non-null   float64\n",
      " 8   alti               100573 non-null  float64\n",
      " 9   mslp               8724 non-null    float64\n",
      " 10  vsby               100610 non-null  float64\n",
      " 11  gust               8420 non-null    float64\n",
      " 12  skyc1              94124 non-null   object \n",
      " 13  skyc2              17487 non-null   object \n",
      " 14  skyc3              6211 non-null    object \n",
      " 15  skyc4              465 non-null     object \n",
      " 16  skyl1              49085 non-null   float64\n",
      " 17  skyl2              17487 non-null   float64\n",
      " 18  skyl3              6211 non-null    float64\n",
      " 19  skyl4              465 non-null     float64\n",
      " 20  wxcodes            10007 non-null   object \n",
      " 21  ice_accretion_1hr  0 non-null       float64\n",
      " 22  ice_accretion_3hr  0 non-null       float64\n",
      " 23  ice_accretion_6hr  0 non-null       float64\n",
      " 24  peak_wind_gust     917 non-null     float64\n",
      " 25  peak_wind_drct     917 non-null     float64\n",
      " 26  peak_wind_time     917 non-null     object \n",
      " 27  feel               4065 non-null    float64\n",
      " 28  metar              100634 non-null  object \n",
      "dtypes: float64(20), object(9)\n",
      "memory usage: 22.3+ MB\n"
     ]
    }
   ],
   "source": [
    "dfw.info()"
   ]
  },
  {
   "cell_type": "code",
   "execution_count": 9,
   "metadata": {},
   "outputs": [],
   "source": [
    "hours_dfw= dfw[dfw['valid'].str.contains(\":00\")]"
   ]
  },
  {
   "cell_type": "code",
   "execution_count": 11,
   "metadata": {},
   "outputs": [
    {
     "name": "stdout",
     "output_type": "stream",
     "text": [
      "<class 'pandas.core.frame.DataFrame'>\n",
      "Int64Index: 7564 entries, 0 to 100621\n",
      "Data columns (total 29 columns):\n",
      " #   Column             Non-Null Count  Dtype  \n",
      "---  ------             --------------  -----  \n",
      " 0   station            7564 non-null   object \n",
      " 1   valid              7564 non-null   object \n",
      " 2   tmpf               15 non-null     float64\n",
      " 3   dwpf               15 non-null     float64\n",
      " 4   relh               15 non-null     float64\n",
      " 5   drct               6680 non-null   float64\n",
      " 6   sknt               7252 non-null   float64\n",
      " 7   p01i               157 non-null    float64\n",
      " 8   alti               7560 non-null   float64\n",
      " 9   mslp               0 non-null      float64\n",
      " 10  vsby               7562 non-null   float64\n",
      " 11  gust               552 non-null    float64\n",
      " 12  skyc1              7202 non-null   object \n",
      " 13  skyc2              989 non-null    object \n",
      " 14  skyc3              297 non-null    object \n",
      " 15  skyc4              2 non-null      object \n",
      " 16  skyl1              3299 non-null   float64\n",
      " 17  skyl2              989 non-null    float64\n",
      " 18  skyl3              297 non-null    float64\n",
      " 19  skyl4              2 non-null      float64\n",
      " 20  wxcodes            717 non-null    object \n",
      " 21  ice_accretion_1hr  0 non-null      float64\n",
      " 22  ice_accretion_3hr  0 non-null      float64\n",
      " 23  ice_accretion_6hr  0 non-null      float64\n",
      " 24  peak_wind_gust     3 non-null      float64\n",
      " 25  peak_wind_drct     3 non-null      float64\n",
      " 26  peak_wind_time     3 non-null      object \n",
      " 27  feel               4 non-null      float64\n",
      " 28  metar              7564 non-null   object \n",
      "dtypes: float64(20), object(9)\n",
      "memory usage: 1.7+ MB\n"
     ]
    }
   ],
   "source": [
    "hours_dfw.info()"
   ]
  },
  {
   "cell_type": "code",
   "execution_count": 12,
   "metadata": {},
   "outputs": [
    {
     "data": {
      "text/html": [
       "<div>\n",
       "<style scoped>\n",
       "    .dataframe tbody tr th:only-of-type {\n",
       "        vertical-align: middle;\n",
       "    }\n",
       "\n",
       "    .dataframe tbody tr th {\n",
       "        vertical-align: top;\n",
       "    }\n",
       "\n",
       "    .dataframe thead th {\n",
       "        text-align: right;\n",
       "    }\n",
       "</style>\n",
       "<table border=\"1\" class=\"dataframe\">\n",
       "  <thead>\n",
       "    <tr style=\"text-align: right;\">\n",
       "      <th></th>\n",
       "      <th>station</th>\n",
       "      <th>valid</th>\n",
       "      <th>tmpf</th>\n",
       "      <th>dwpf</th>\n",
       "      <th>relh</th>\n",
       "      <th>drct</th>\n",
       "      <th>sknt</th>\n",
       "      <th>p01i</th>\n",
       "      <th>alti</th>\n",
       "      <th>mslp</th>\n",
       "      <th>...</th>\n",
       "      <th>skyl4</th>\n",
       "      <th>wxcodes</th>\n",
       "      <th>ice_accretion_1hr</th>\n",
       "      <th>ice_accretion_3hr</th>\n",
       "      <th>ice_accretion_6hr</th>\n",
       "      <th>peak_wind_gust</th>\n",
       "      <th>peak_wind_drct</th>\n",
       "      <th>peak_wind_time</th>\n",
       "      <th>feel</th>\n",
       "      <th>metar</th>\n",
       "    </tr>\n",
       "  </thead>\n",
       "  <tbody>\n",
       "    <tr>\n",
       "      <th>0</th>\n",
       "      <td>DFW</td>\n",
       "      <td>2020-01-01 00:00</td>\n",
       "      <td>NaN</td>\n",
       "      <td>NaN</td>\n",
       "      <td>NaN</td>\n",
       "      <td>200.0</td>\n",
       "      <td>5.0</td>\n",
       "      <td>NaN</td>\n",
       "      <td>30.09</td>\n",
       "      <td>NaN</td>\n",
       "      <td>...</td>\n",
       "      <td>NaN</td>\n",
       "      <td>NaN</td>\n",
       "      <td>NaN</td>\n",
       "      <td>NaN</td>\n",
       "      <td>NaN</td>\n",
       "      <td>NaN</td>\n",
       "      <td>NaN</td>\n",
       "      <td>NaN</td>\n",
       "      <td>NaN</td>\n",
       "      <td>KDFW 010600Z AUTO 20005KT 10SM CLR 06/M03 A300...</td>\n",
       "    </tr>\n",
       "    <tr>\n",
       "      <th>13</th>\n",
       "      <td>DFW</td>\n",
       "      <td>2020-01-01 01:00</td>\n",
       "      <td>NaN</td>\n",
       "      <td>NaN</td>\n",
       "      <td>NaN</td>\n",
       "      <td>180.0</td>\n",
       "      <td>4.0</td>\n",
       "      <td>NaN</td>\n",
       "      <td>30.08</td>\n",
       "      <td>NaN</td>\n",
       "      <td>...</td>\n",
       "      <td>NaN</td>\n",
       "      <td>NaN</td>\n",
       "      <td>NaN</td>\n",
       "      <td>NaN</td>\n",
       "      <td>NaN</td>\n",
       "      <td>NaN</td>\n",
       "      <td>NaN</td>\n",
       "      <td>NaN</td>\n",
       "      <td>NaN</td>\n",
       "      <td>KDFW 010700Z AUTO 18004KT 10SM CLR 06/M03 A300...</td>\n",
       "    </tr>\n",
       "    <tr>\n",
       "      <th>26</th>\n",
       "      <td>DFW</td>\n",
       "      <td>2020-01-01 02:00</td>\n",
       "      <td>NaN</td>\n",
       "      <td>NaN</td>\n",
       "      <td>NaN</td>\n",
       "      <td>190.0</td>\n",
       "      <td>5.0</td>\n",
       "      <td>NaN</td>\n",
       "      <td>30.06</td>\n",
       "      <td>NaN</td>\n",
       "      <td>...</td>\n",
       "      <td>NaN</td>\n",
       "      <td>NaN</td>\n",
       "      <td>NaN</td>\n",
       "      <td>NaN</td>\n",
       "      <td>NaN</td>\n",
       "      <td>NaN</td>\n",
       "      <td>NaN</td>\n",
       "      <td>NaN</td>\n",
       "      <td>NaN</td>\n",
       "      <td>KDFW 010800Z AUTO 19005KT 10SM 06/M03 A3005 RM...</td>\n",
       "    </tr>\n",
       "    <tr>\n",
       "      <th>39</th>\n",
       "      <td>DFW</td>\n",
       "      <td>2020-01-01 03:00</td>\n",
       "      <td>NaN</td>\n",
       "      <td>NaN</td>\n",
       "      <td>NaN</td>\n",
       "      <td>180.0</td>\n",
       "      <td>5.0</td>\n",
       "      <td>NaN</td>\n",
       "      <td>30.04</td>\n",
       "      <td>NaN</td>\n",
       "      <td>...</td>\n",
       "      <td>NaN</td>\n",
       "      <td>NaN</td>\n",
       "      <td>NaN</td>\n",
       "      <td>NaN</td>\n",
       "      <td>NaN</td>\n",
       "      <td>NaN</td>\n",
       "      <td>NaN</td>\n",
       "      <td>NaN</td>\n",
       "      <td>NaN</td>\n",
       "      <td>KDFW 010900Z AUTO 18005KT 10SM CLR 06/M04 A300...</td>\n",
       "    </tr>\n",
       "    <tr>\n",
       "      <th>52</th>\n",
       "      <td>DFW</td>\n",
       "      <td>2020-01-01 04:00</td>\n",
       "      <td>NaN</td>\n",
       "      <td>NaN</td>\n",
       "      <td>NaN</td>\n",
       "      <td>190.0</td>\n",
       "      <td>7.0</td>\n",
       "      <td>NaN</td>\n",
       "      <td>30.03</td>\n",
       "      <td>NaN</td>\n",
       "      <td>...</td>\n",
       "      <td>NaN</td>\n",
       "      <td>NaN</td>\n",
       "      <td>NaN</td>\n",
       "      <td>NaN</td>\n",
       "      <td>NaN</td>\n",
       "      <td>NaN</td>\n",
       "      <td>NaN</td>\n",
       "      <td>NaN</td>\n",
       "      <td>NaN</td>\n",
       "      <td>KDFW 011000Z AUTO 19007KT 10SM 06/M03 A3003 RM...</td>\n",
       "    </tr>\n",
       "  </tbody>\n",
       "</table>\n",
       "<p>5 rows × 29 columns</p>\n",
       "</div>"
      ],
      "text/plain": [
       "   station             valid  tmpf  dwpf  relh   drct  sknt  p01i   alti  \\\n",
       "0      DFW  2020-01-01 00:00   NaN   NaN   NaN  200.0   5.0   NaN  30.09   \n",
       "13     DFW  2020-01-01 01:00   NaN   NaN   NaN  180.0   4.0   NaN  30.08   \n",
       "26     DFW  2020-01-01 02:00   NaN   NaN   NaN  190.0   5.0   NaN  30.06   \n",
       "39     DFW  2020-01-01 03:00   NaN   NaN   NaN  180.0   5.0   NaN  30.04   \n",
       "52     DFW  2020-01-01 04:00   NaN   NaN   NaN  190.0   7.0   NaN  30.03   \n",
       "\n",
       "    mslp  ...  skyl4  wxcodes ice_accretion_1hr ice_accretion_3hr  \\\n",
       "0    NaN  ...    NaN      NaN               NaN               NaN   \n",
       "13   NaN  ...    NaN      NaN               NaN               NaN   \n",
       "26   NaN  ...    NaN      NaN               NaN               NaN   \n",
       "39   NaN  ...    NaN      NaN               NaN               NaN   \n",
       "52   NaN  ...    NaN      NaN               NaN               NaN   \n",
       "\n",
       "   ice_accretion_6hr peak_wind_gust  peak_wind_drct  peak_wind_time  feel  \\\n",
       "0                NaN            NaN             NaN             NaN   NaN   \n",
       "13               NaN            NaN             NaN             NaN   NaN   \n",
       "26               NaN            NaN             NaN             NaN   NaN   \n",
       "39               NaN            NaN             NaN             NaN   NaN   \n",
       "52               NaN            NaN             NaN             NaN   NaN   \n",
       "\n",
       "                                                metar  \n",
       "0   KDFW 010600Z AUTO 20005KT 10SM CLR 06/M03 A300...  \n",
       "13  KDFW 010700Z AUTO 18004KT 10SM CLR 06/M03 A300...  \n",
       "26  KDFW 010800Z AUTO 19005KT 10SM 06/M03 A3005 RM...  \n",
       "39  KDFW 010900Z AUTO 18005KT 10SM CLR 06/M04 A300...  \n",
       "52  KDFW 011000Z AUTO 19007KT 10SM 06/M03 A3003 RM...  \n",
       "\n",
       "[5 rows x 29 columns]"
      ]
     },
     "execution_count": 12,
     "metadata": {},
     "output_type": "execute_result"
    }
   ],
   "source": [
    "hours_dfw.head()"
   ]
  },
  {
   "cell_type": "code",
   "execution_count": 21,
   "metadata": {},
   "outputs": [
    {
     "data": {
      "text/plain": [
       "(7564, 29)"
      ]
     },
     "execution_count": 21,
     "metadata": {},
     "output_type": "execute_result"
    }
   ],
   "source": [
    "hours_dfw.shape"
   ]
  },
  {
   "cell_type": "code",
   "execution_count": 40,
   "metadata": {
    "scrolled": true
   },
   "outputs": [
    {
     "ename": "KeyError",
     "evalue": "200",
     "output_type": "error",
     "traceback": [
      "\u001b[0;31m---------------------------------------------------------------------------\u001b[0m",
      "\u001b[0;31mKeyError\u001b[0m                                  Traceback (most recent call last)",
      "\u001b[0;32m~/opt/anaconda3/lib/python3.7/site-packages/pandas/core/indexes/base.py\u001b[0m in \u001b[0;36mget_loc\u001b[0;34m(self, key, method, tolerance)\u001b[0m\n\u001b[1;32m   2894\u001b[0m             \u001b[0;32mtry\u001b[0m\u001b[0;34m:\u001b[0m\u001b[0;34m\u001b[0m\u001b[0;34m\u001b[0m\u001b[0m\n\u001b[0;32m-> 2895\u001b[0;31m                 \u001b[0;32mreturn\u001b[0m \u001b[0mself\u001b[0m\u001b[0;34m.\u001b[0m\u001b[0m_engine\u001b[0m\u001b[0;34m.\u001b[0m\u001b[0mget_loc\u001b[0m\u001b[0;34m(\u001b[0m\u001b[0mcasted_key\u001b[0m\u001b[0;34m)\u001b[0m\u001b[0;34m\u001b[0m\u001b[0;34m\u001b[0m\u001b[0m\n\u001b[0m\u001b[1;32m   2896\u001b[0m             \u001b[0;32mexcept\u001b[0m \u001b[0mKeyError\u001b[0m \u001b[0;32mas\u001b[0m \u001b[0merr\u001b[0m\u001b[0;34m:\u001b[0m\u001b[0;34m\u001b[0m\u001b[0;34m\u001b[0m\u001b[0m\n",
      "\u001b[0;32mpandas/_libs/index.pyx\u001b[0m in \u001b[0;36mpandas._libs.index.IndexEngine.get_loc\u001b[0;34m()\u001b[0m\n",
      "\u001b[0;32mpandas/_libs/index.pyx\u001b[0m in \u001b[0;36mpandas._libs.index.IndexEngine.get_loc\u001b[0;34m()\u001b[0m\n",
      "\u001b[0;32mpandas/_libs/hashtable_class_helper.pxi\u001b[0m in \u001b[0;36mpandas._libs.hashtable.PyObjectHashTable.get_item\u001b[0;34m()\u001b[0m\n",
      "\u001b[0;32mpandas/_libs/hashtable_class_helper.pxi\u001b[0m in \u001b[0;36mpandas._libs.hashtable.PyObjectHashTable.get_item\u001b[0;34m()\u001b[0m\n",
      "\u001b[0;31mKeyError\u001b[0m: 200",
      "\nThe above exception was the direct cause of the following exception:\n",
      "\u001b[0;31mKeyError\u001b[0m                                  Traceback (most recent call last)",
      "\u001b[0;32m<ipython-input-40-5c6846d4423f>\u001b[0m in \u001b[0;36m<module>\u001b[0;34m\u001b[0m\n\u001b[1;32m      1\u001b[0m \u001b[0mpd\u001b[0m\u001b[0;34m.\u001b[0m\u001b[0mset_option\u001b[0m\u001b[0;34m(\u001b[0m\u001b[0;34m'display.max_colWidth'\u001b[0m\u001b[0;34m,\u001b[0m \u001b[0;36m100\u001b[0m\u001b[0;34m)\u001b[0m\u001b[0;34m\u001b[0m\u001b[0;34m\u001b[0m\u001b[0m\n\u001b[0;32m----> 2\u001b[0;31m \u001b[0mvar1\u001b[0m \u001b[0;34m=\u001b[0m \u001b[0mhours_dfw\u001b[0m\u001b[0;34m[\u001b[0m\u001b[0;36m200\u001b[0m\u001b[0;34m]\u001b[0m\u001b[0;34m[\u001b[0m\u001b[0;34m'metar'\u001b[0m\u001b[0;34m]\u001b[0m\u001b[0;34m\u001b[0m\u001b[0;34m\u001b[0m\u001b[0m\n\u001b[0m\u001b[1;32m      3\u001b[0m \u001b[0mprint\u001b[0m\u001b[0;34m(\u001b[0m\u001b[0mvar1\u001b[0m\u001b[0;34m)\u001b[0m\u001b[0;34m\u001b[0m\u001b[0;34m\u001b[0m\u001b[0m\n",
      "\u001b[0;32m~/opt/anaconda3/lib/python3.7/site-packages/pandas/core/frame.py\u001b[0m in \u001b[0;36m__getitem__\u001b[0;34m(self, key)\u001b[0m\n\u001b[1;32m   2900\u001b[0m             \u001b[0;32mif\u001b[0m \u001b[0mself\u001b[0m\u001b[0;34m.\u001b[0m\u001b[0mcolumns\u001b[0m\u001b[0;34m.\u001b[0m\u001b[0mnlevels\u001b[0m \u001b[0;34m>\u001b[0m \u001b[0;36m1\u001b[0m\u001b[0;34m:\u001b[0m\u001b[0;34m\u001b[0m\u001b[0;34m\u001b[0m\u001b[0m\n\u001b[1;32m   2901\u001b[0m                 \u001b[0;32mreturn\u001b[0m \u001b[0mself\u001b[0m\u001b[0;34m.\u001b[0m\u001b[0m_getitem_multilevel\u001b[0m\u001b[0;34m(\u001b[0m\u001b[0mkey\u001b[0m\u001b[0;34m)\u001b[0m\u001b[0;34m\u001b[0m\u001b[0;34m\u001b[0m\u001b[0m\n\u001b[0;32m-> 2902\u001b[0;31m             \u001b[0mindexer\u001b[0m \u001b[0;34m=\u001b[0m \u001b[0mself\u001b[0m\u001b[0;34m.\u001b[0m\u001b[0mcolumns\u001b[0m\u001b[0;34m.\u001b[0m\u001b[0mget_loc\u001b[0m\u001b[0;34m(\u001b[0m\u001b[0mkey\u001b[0m\u001b[0;34m)\u001b[0m\u001b[0;34m\u001b[0m\u001b[0;34m\u001b[0m\u001b[0m\n\u001b[0m\u001b[1;32m   2903\u001b[0m             \u001b[0;32mif\u001b[0m \u001b[0mis_integer\u001b[0m\u001b[0;34m(\u001b[0m\u001b[0mindexer\u001b[0m\u001b[0;34m)\u001b[0m\u001b[0;34m:\u001b[0m\u001b[0;34m\u001b[0m\u001b[0;34m\u001b[0m\u001b[0m\n\u001b[1;32m   2904\u001b[0m                 \u001b[0mindexer\u001b[0m \u001b[0;34m=\u001b[0m \u001b[0;34m[\u001b[0m\u001b[0mindexer\u001b[0m\u001b[0;34m]\u001b[0m\u001b[0;34m\u001b[0m\u001b[0;34m\u001b[0m\u001b[0m\n",
      "\u001b[0;32m~/opt/anaconda3/lib/python3.7/site-packages/pandas/core/indexes/base.py\u001b[0m in \u001b[0;36mget_loc\u001b[0;34m(self, key, method, tolerance)\u001b[0m\n\u001b[1;32m   2895\u001b[0m                 \u001b[0;32mreturn\u001b[0m \u001b[0mself\u001b[0m\u001b[0;34m.\u001b[0m\u001b[0m_engine\u001b[0m\u001b[0;34m.\u001b[0m\u001b[0mget_loc\u001b[0m\u001b[0;34m(\u001b[0m\u001b[0mcasted_key\u001b[0m\u001b[0;34m)\u001b[0m\u001b[0;34m\u001b[0m\u001b[0;34m\u001b[0m\u001b[0m\n\u001b[1;32m   2896\u001b[0m             \u001b[0;32mexcept\u001b[0m \u001b[0mKeyError\u001b[0m \u001b[0;32mas\u001b[0m \u001b[0merr\u001b[0m\u001b[0;34m:\u001b[0m\u001b[0;34m\u001b[0m\u001b[0;34m\u001b[0m\u001b[0m\n\u001b[0;32m-> 2897\u001b[0;31m                 \u001b[0;32mraise\u001b[0m \u001b[0mKeyError\u001b[0m\u001b[0;34m(\u001b[0m\u001b[0mkey\u001b[0m\u001b[0;34m)\u001b[0m \u001b[0;32mfrom\u001b[0m \u001b[0merr\u001b[0m\u001b[0;34m\u001b[0m\u001b[0;34m\u001b[0m\u001b[0m\n\u001b[0m\u001b[1;32m   2898\u001b[0m \u001b[0;34m\u001b[0m\u001b[0m\n\u001b[1;32m   2899\u001b[0m         \u001b[0;32mif\u001b[0m \u001b[0mtolerance\u001b[0m \u001b[0;32mis\u001b[0m \u001b[0;32mnot\u001b[0m \u001b[0;32mNone\u001b[0m\u001b[0;34m:\u001b[0m\u001b[0;34m\u001b[0m\u001b[0;34m\u001b[0m\u001b[0m\n",
      "\u001b[0;31mKeyError\u001b[0m: 200"
     ]
    }
   ],
   "source": [
    "pd.set_option('display.max_colWidth', 100)\n",
    "var1 = hours_dfw[200]['metar']\n",
    "print(var1)"
   ]
  },
  {
   "cell_type": "code",
   "execution_count": 43,
   "metadata": {},
   "outputs": [
    {
     "data": {
      "text/plain": [
       "'KDFW 010700Z AUTO 18004KT 10SM CLR 06/M03 A3007 RMK T00601030 MADISHF'"
      ]
     },
     "execution_count": 43,
     "metadata": {},
     "output_type": "execute_result"
    }
   ],
   "source": [
    "hours_dfw.loc[13, 'metar']"
   ]
  },
  {
   "cell_type": "code",
   "execution_count": 46,
   "metadata": {},
   "outputs": [
    {
     "data": {
      "text/plain": [
       "'KDFW 010900Z AUTO 18005KT 10SM CLR 06/M04 A3004 RMK T00601040 MADISHF'"
      ]
     },
     "execution_count": 46,
     "metadata": {},
     "output_type": "execute_result"
    }
   ],
   "source": [
    "hours_dfw.iloc[3, -1]"
   ]
  },
  {
   "cell_type": "code",
   "execution_count": 47,
   "metadata": {},
   "outputs": [
    {
     "name": "stdout",
     "output_type": "stream",
     "text": [
      "KDFW 010600Z AUTO 20005KT 10SM CLR 06/M03 A3009 RMK T00601030 MADISHF\n",
      "KDFW 010700Z AUTO 18004KT 10SM CLR 06/M03 A3007 RMK T00601030 MADISHF\n",
      "KDFW 010800Z AUTO 19005KT 10SM 06/M03 A3005 RMK T00601030 MADISHF\n",
      "KDFW 010900Z AUTO 18005KT 10SM CLR 06/M04 A3004 RMK T00601040 MADISHF\n",
      "KDFW 011000Z AUTO 19007KT 10SM 06/M03 A3003 RMK T00601030 MADISHF\n",
      "KDFW 011100Z AUTO 18007KT 10SM CLR 06/M04 A3000 RMK T00601040 MADISHF\n",
      "KDFW 011200Z AUTO 17008KT 10SM CLR 07/M04 A2998 RMK T00701040 MADISHF\n",
      "KDFW 011300Z AUTO 17007KT 10SM CLR 07/M04 A2997 RMK T00701040 MADISHF\n",
      "KDFW 011400Z AUTO 16005KT 10SM OVC050 07/M03 A2996 RMK T00701030 MADISHF\n",
      "KDFW 011500Z AUTO 17007KT 10SM OVC044 08/M02 A2995 RMK T00801020 MADISHF\n",
      "KDFW 011600Z AUTO 19007KT 10SM OVC045 09/M02 A2996 RMK T00901020 MADISHF\n",
      "KDFW 011700Z AUTO 20011KT 10SM OVC046 11/M02 A2995 RMK T01101020 MADISHF\n",
      "KDFW 011800Z AUTO 18016KT 10SM OVC039 11/M01 A2990 RMK T01101010 MADISHF\n",
      "KDFW 011900Z AUTO 19016KT 10SM OVC033 12/M01 A2986 RMK T01201010 MADISHF\n",
      "KDFW 012000Z AUTO 19022KT 10SM FEW037 13/00 A2980 RMK T01300000 MADISHF\n",
      "KDFW 012100Z AUTO 19013KT 10SM FEW038 13/02 A2979 RMK T01300020 MADISHF\n",
      "KDFW 012200Z AUTO 19013KT 10SM FEW038 13/04 A2977 RMK T01300040 MADISHF\n",
      "KDFW 012300Z AUTO 18014KT 10SM FEW038 13/04 A2975 RMK T01300040 MADISHF\n",
      "KDFW 020000Z AUTO 17015KT 10SM 12/03 A2972 RMK T01200030 MADISHF\n",
      "KDFW 020100Z AUTO ///15KT 10SM FEW035 12/03 A2971 RMK T01200030 MADISHF\n",
      "KDFW 020200Z AUTO 17013KT 10SM FEW035 12/04 A2971 RMK T01200040 MADISHF\n",
      "KDFW 020300Z AUTO 17019KT 10SM SCT022 12/05 A2970 RMK T01200050 MADISHF\n",
      "KDFW 020400Z AUTO 18013KT 10SM FEW018 12/06 A2970 RMK T01200060 MADISHF\n",
      "KDFW 020500Z AUTO 18014KT 10SM CLR 12/06 A2970 RMK T01200060 MADISHF\n",
      "KDFW 020600Z AUTO 17013KT 10SM CLR 11/06 A2968 RMK T01100060 MADISHF\n"
     ]
    }
   ],
   "source": [
    "for i in range(25):\n",
    "    print(hours_dfw.iloc[i, -1])\n",
    "    "
   ]
  },
  {
   "cell_type": "code",
   "execution_count": null,
   "metadata": {},
   "outputs": [],
   "source": []
  }
 ],
 "metadata": {
  "kernelspec": {
   "display_name": "Python 3",
   "language": "python",
   "name": "python3"
  },
  "language_info": {
   "codemirror_mode": {
    "name": "ipython",
    "version": 3
   },
   "file_extension": ".py",
   "mimetype": "text/x-python",
   "name": "python",
   "nbconvert_exporter": "python",
   "pygments_lexer": "ipython3",
   "version": "3.7.9"
  }
 },
 "nbformat": 4,
 "nbformat_minor": 4
}
