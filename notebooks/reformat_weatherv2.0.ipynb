{
 "cells": [
  {
   "cell_type": "code",
   "execution_count": 3,
   "metadata": {},
   "outputs": [],
   "source": [
    "import pandas as pd\n",
    "import numpy as np\n",
    "import matplotlib.pyplot as plt\n",
    "plt.style.use('ggplot')\n",
    "import seaborn as sbn\n",
    "from math import ceil\n",
    "import scipy.stats as stats\n",
    "import matplotlib.pyplot as plt\n",
    "from pandas.plotting import scatter_matrix\n",
    "import timeit\n",
    "import datetime as dt\n",
    "import pandasql as ps"
   ]
  },
  {
   "cell_type": "code",
   "execution_count": 4,
   "metadata": {},
   "outputs": [],
   "source": [
    "dallas = pd.read_csv('~/Desktop/Dallas_YEAR_SCRAPE.csv')"
   ]
  },
  {
   "cell_type": "code",
   "execution_count": 5,
   "metadata": {},
   "outputs": [],
   "source": [
    "dallas['new_hour_date'] = dallas['hour'] + ' '+  dallas['Date']"
   ]
  },
  {
   "cell_type": "code",
   "execution_count": 6,
   "metadata": {},
   "outputs": [],
   "source": [
    "dallas['New_datetime'] = pd.to_datetime(dallas['new_hour_date'],infer_datetime_format=True, format ='%m/%d/%Y %H')"
   ]
  },
  {
   "cell_type": "code",
   "execution_count": 7,
   "metadata": {},
   "outputs": [],
   "source": [
    "dallas['time_rounded'] = dallas['New_datetime'].dt.round('H').dt.hour"
   ]
  },
  {
   "cell_type": "code",
   "execution_count": 8,
   "metadata": {},
   "outputs": [],
   "source": [
    "dallas['time_rounded'] = dallas['time_rounded'].apply(str)"
   ]
  },
  {
   "cell_type": "code",
   "execution_count": 7,
   "metadata": {},
   "outputs": [],
   "source": [
    "dallas['time_rounded2'] = dallas['Date'] + ' '+  dallas['time_rounded']"
   ]
  },
  {
   "cell_type": "code",
   "execution_count": 8,
   "metadata": {},
   "outputs": [],
   "source": [
    "dallas['time_rounded4']= dallas['time_rounded2'].apply(lambda x:f'{x}:00:00')"
   ]
  },
  {
   "cell_type": "code",
   "execution_count": 9,
   "metadata": {},
   "outputs": [],
   "source": [
    "dallas['New_datetime2'] = pd.to_datetime(dallas['time_rounded4'],infer_datetime_format=True,format ='%m/%d/%Y %H')"
   ]
  },
  {
   "cell_type": "code",
   "execution_count": null,
   "metadata": {},
   "outputs": [],
   "source": [
    "del dallas['hour']\n",
    "del dallas['Date']\n",
    "del dallas['new_hour_date']\n",
    "del dallas['New_datetime']\n",
    "del dallas['time_rounded']\n",
    "del dallas['time_rounded2']\n",
    "# del dallas['time_rounded3']\n",
    "del dallas['time_rounded4']"
   ]
  },
  {
   "cell_type": "code",
   "execution_count": 10,
   "metadata": {},
   "outputs": [],
   "source": [
    "dallas['New_datetime']= dallas['time_rounded4']"
   ]
  },
  {
   "cell_type": "code",
   "execution_count": 11,
   "metadata": {},
   "outputs": [],
   "source": [
    "dallas['New_datetime'] = pd.to_datetime(dallas['New_datetime'],infer_datetime_format=True,format ='%m/%d/%Y %H')"
   ]
  },
  {
   "cell_type": "code",
   "execution_count": 12,
   "metadata": {},
   "outputs": [
    {
     "name": "stdout",
     "output_type": "stream",
     "text": [
      "<class 'pandas.core.frame.DataFrame'>\n",
      "RangeIndex: 10300 entries, 0 to 10299\n",
      "Data columns (total 15 columns):\n",
      " #   Column         Non-Null Count  Dtype         \n",
      "---  ------         --------------  -----         \n",
      " 0   hour           10300 non-null  object        \n",
      " 1   temp           10300 non-null  object        \n",
      " 2   dew            10300 non-null  object        \n",
      " 3   humidity       10300 non-null  object        \n",
      " 4   wind_speed     10300 non-null  object        \n",
      " 5   pressure       10300 non-null  object        \n",
      " 6   precip         10300 non-null  object        \n",
      " 7   cloud          10299 non-null  object        \n",
      " 8   Date           10300 non-null  object        \n",
      " 9   new_hour_date  10300 non-null  object        \n",
      " 10  New_datetime   10300 non-null  datetime64[ns]\n",
      " 11  time_rounded   10300 non-null  object        \n",
      " 12  time_rounded2  10300 non-null  object        \n",
      " 13  time_rounded4  10300 non-null  object        \n",
      " 14  New_datetime2  10300 non-null  datetime64[ns]\n",
      "dtypes: datetime64[ns](2), object(13)\n",
      "memory usage: 1.2+ MB\n"
     ]
    }
   ],
   "source": [
    "dallas.info()"
   ]
  },
  {
   "cell_type": "code",
   "execution_count": 2,
   "metadata": {},
   "outputs": [
    {
     "ename": "NameError",
     "evalue": "name 'dallas' is not defined",
     "output_type": "error",
     "traceback": [
      "\u001b[0;31m---------------------------------------------------------------------------\u001b[0m",
      "\u001b[0;31mNameError\u001b[0m                                 Traceback (most recent call last)",
      "\u001b[0;32m<ipython-input-2-3d9137d3b85e>\u001b[0m in \u001b[0;36m<module>\u001b[0;34m\u001b[0m\n\u001b[0;32m----> 1\u001b[0;31m \u001b[0mdallas\u001b[0m\u001b[0;34m\u001b[0m\u001b[0;34m\u001b[0m\u001b[0m\n\u001b[0m",
      "\u001b[0;31mNameError\u001b[0m: name 'dallas' is not defined"
     ]
    }
   ],
   "source": [
    "dallas"
   ]
  },
  {
   "cell_type": "code",
   "execution_count": null,
   "metadata": {},
   "outputs": [],
   "source": [
    "dallas.to_csv (r'/Users/cp/Desktop/capstone2/DALLASV2_FINAL_WEATHER.csv', index = False, header=True)"
   ]
  },
  {
   "cell_type": "code",
   "execution_count": null,
   "metadata": {},
   "outputs": [],
   "source": [
    "dallas.head()"
   ]
  },
  {
   "cell_type": "code",
   "execution_count": 14,
   "metadata": {},
   "outputs": [],
   "source": [
    "del dallas['hour']\n",
    "del dallas['Date']\n",
    "del dallas['new_hour_date']\n",
    "del dallas['New_datetime']\n",
    "del dallas['time_rounded']\n",
    "del dallas['time_rounded2']\n",
    "# del dallas['time_rounded3']\n",
    "del dallas['time_rounded4']"
   ]
  },
  {
   "cell_type": "code",
   "execution_count": 15,
   "metadata": {},
   "outputs": [
    {
     "name": "stdout",
     "output_type": "stream",
     "text": [
      "<class 'pandas.core.frame.DataFrame'>\n",
      "RangeIndex: 10300 entries, 0 to 10299\n",
      "Data columns (total 8 columns):\n",
      " #   Column         Non-Null Count  Dtype         \n",
      "---  ------         --------------  -----         \n",
      " 0   temp           10300 non-null  object        \n",
      " 1   dew            10300 non-null  object        \n",
      " 2   humidity       10300 non-null  object        \n",
      " 3   wind_speed     10300 non-null  object        \n",
      " 4   pressure       10300 non-null  object        \n",
      " 5   precip         10300 non-null  object        \n",
      " 6   cloud          10299 non-null  object        \n",
      " 7   New_datetime2  10300 non-null  datetime64[ns]\n",
      "dtypes: datetime64[ns](1), object(7)\n",
      "memory usage: 643.9+ KB\n"
     ]
    }
   ],
   "source": [
    "dallas.info()"
   ]
  },
  {
   "cell_type": "code",
   "execution_count": 16,
   "metadata": {},
   "outputs": [
    {
     "data": {
      "text/html": [
       "<div>\n",
       "<style scoped>\n",
       "    .dataframe tbody tr th:only-of-type {\n",
       "        vertical-align: middle;\n",
       "    }\n",
       "\n",
       "    .dataframe tbody tr th {\n",
       "        vertical-align: top;\n",
       "    }\n",
       "\n",
       "    .dataframe thead th {\n",
       "        text-align: right;\n",
       "    }\n",
       "</style>\n",
       "<table border=\"1\" class=\"dataframe\">\n",
       "  <thead>\n",
       "    <tr style=\"text-align: right;\">\n",
       "      <th></th>\n",
       "      <th>temp</th>\n",
       "      <th>dew</th>\n",
       "      <th>humidity</th>\n",
       "      <th>wind_speed</th>\n",
       "      <th>pressure</th>\n",
       "      <th>precip</th>\n",
       "      <th>cloud</th>\n",
       "      <th>New_datetime2</th>\n",
       "    </tr>\n",
       "  </thead>\n",
       "  <tbody>\n",
       "    <tr>\n",
       "      <th>0</th>\n",
       "      <td>45 F</td>\n",
       "      <td>25 F</td>\n",
       "      <td>46 %</td>\n",
       "      <td>0 mph</td>\n",
       "      <td>29.59 in</td>\n",
       "      <td>0.0 in</td>\n",
       "      <td>Cloudy</td>\n",
       "      <td>2020-01-01 01:00:00</td>\n",
       "    </tr>\n",
       "    <tr>\n",
       "      <th>1</th>\n",
       "      <td>46 F</td>\n",
       "      <td>23 F</td>\n",
       "      <td>40 %</td>\n",
       "      <td>0 mph</td>\n",
       "      <td>29.58 in</td>\n",
       "      <td>0.0 in</td>\n",
       "      <td>Cloudy</td>\n",
       "      <td>2020-01-01 02:00:00</td>\n",
       "    </tr>\n",
       "    <tr>\n",
       "      <th>2</th>\n",
       "      <td>46 F</td>\n",
       "      <td>23 F</td>\n",
       "      <td>40 %</td>\n",
       "      <td>7 mph</td>\n",
       "      <td>29.56 in</td>\n",
       "      <td>0.0 in</td>\n",
       "      <td>Cloudy</td>\n",
       "      <td>2020-01-01 03:00:00</td>\n",
       "    </tr>\n",
       "    <tr>\n",
       "      <th>3</th>\n",
       "      <td>47 F</td>\n",
       "      <td>22 F</td>\n",
       "      <td>37 %</td>\n",
       "      <td>6 mph</td>\n",
       "      <td>29.55 in</td>\n",
       "      <td>0.0 in</td>\n",
       "      <td>Cloudy</td>\n",
       "      <td>2020-01-01 04:00:00</td>\n",
       "    </tr>\n",
       "    <tr>\n",
       "      <th>4</th>\n",
       "      <td>47 F</td>\n",
       "      <td>23 F</td>\n",
       "      <td>39 %</td>\n",
       "      <td>6 mph</td>\n",
       "      <td>29.53 in</td>\n",
       "      <td>0.0 in</td>\n",
       "      <td>Cloudy</td>\n",
       "      <td>2020-01-01 05:00:00</td>\n",
       "    </tr>\n",
       "  </tbody>\n",
       "</table>\n",
       "</div>"
      ],
      "text/plain": [
       "   temp   dew humidity wind_speed  pressure  precip   cloud  \\\n",
       "0  45 F  25 F     46 %      0 mph  29.59 in  0.0 in  Cloudy   \n",
       "1  46 F  23 F     40 %      0 mph  29.58 in  0.0 in  Cloudy   \n",
       "2  46 F  23 F     40 %      7 mph  29.56 in  0.0 in  Cloudy   \n",
       "3  47 F  22 F     37 %      6 mph  29.55 in  0.0 in  Cloudy   \n",
       "4  47 F  23 F     39 %      6 mph  29.53 in  0.0 in  Cloudy   \n",
       "\n",
       "        New_datetime2  \n",
       "0 2020-01-01 01:00:00  \n",
       "1 2020-01-01 02:00:00  \n",
       "2 2020-01-01 03:00:00  \n",
       "3 2020-01-01 04:00:00  \n",
       "4 2020-01-01 05:00:00  "
      ]
     },
     "execution_count": 16,
     "metadata": {},
     "output_type": "execute_result"
    }
   ],
   "source": [
    "dallas.head()"
   ]
  },
  {
   "cell_type": "code",
   "execution_count": 1,
   "metadata": {},
   "outputs": [
    {
     "ename": "NameError",
     "evalue": "name 'dallas' is not defined",
     "output_type": "error",
     "traceback": [
      "\u001b[0;31m---------------------------------------------------------------------------\u001b[0m",
      "\u001b[0;31mNameError\u001b[0m                                 Traceback (most recent call last)",
      "\u001b[0;32m<ipython-input-1-3d9137d3b85e>\u001b[0m in \u001b[0;36m<module>\u001b[0;34m\u001b[0m\n\u001b[0;32m----> 1\u001b[0;31m \u001b[0mdallas\u001b[0m\u001b[0;34m\u001b[0m\u001b[0;34m\u001b[0m\u001b[0m\n\u001b[0m",
      "\u001b[0;31mNameError\u001b[0m: name 'dallas' is not defined"
     ]
    }
   ],
   "source": [
    "dallas\n"
   ]
  },
  {
   "cell_type": "code",
   "execution_count": null,
   "metadata": {},
   "outputs": [],
   "source": []
  }
 ],
 "metadata": {
  "kernelspec": {
   "display_name": "Python 3",
   "language": "python",
   "name": "python3"
  },
  "language_info": {
   "codemirror_mode": {
    "name": "ipython",
    "version": 3
   },
   "file_extension": ".py",
   "mimetype": "text/x-python",
   "name": "python",
   "nbconvert_exporter": "python",
   "pygments_lexer": "ipython3",
   "version": "3.7.9"
  }
 },
 "nbformat": 4,
 "nbformat_minor": 4
}
