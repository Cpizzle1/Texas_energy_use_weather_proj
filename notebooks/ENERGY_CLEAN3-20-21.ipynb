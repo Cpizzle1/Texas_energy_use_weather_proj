{
 "cells": [
  {
   "cell_type": "code",
   "execution_count": 1,
   "metadata": {},
   "outputs": [],
   "source": [
    "import pandas as pd\n",
    "import numpy as np\n",
    "import matplotlib.pyplot as plt\n",
    "plt.style.use('ggplot')\n",
    "import seaborn as sbn\n",
    "import scipy.stats as stats\n",
    "from pandas.plotting import scatter_matrix\n",
    "import statsmodels.api as sm\n",
    "import datetime as dt\n",
    "import pandasql as ps"
   ]
  },
  {
   "cell_type": "code",
   "execution_count": 2,
   "metadata": {},
   "outputs": [
    {
     "name": "stderr",
     "output_type": "stream",
     "text": [
      "/Users/cp/opt/anaconda3/lib/python3.7/site-packages/IPython/core/interactiveshell.py:3147: DtypeWarning: Columns (11,14,15,16,17,19,20,21) have mixed types.Specify dtype option on import or set low_memory=False.\n",
      "  interactivity=interactivity, compiler=compiler, result=result)\n",
      "/Users/cp/opt/anaconda3/lib/python3.7/site-packages/IPython/core/interactiveshell.py:3147: DtypeWarning: Columns (11,14,16,17,19,20,21) have mixed types.Specify dtype option on import or set low_memory=False.\n",
      "  interactivity=interactivity, compiler=compiler, result=result)\n"
     ]
    }
   ],
   "source": [
    "data = pd.read_csv('~/Downloads/EIA930_BALANCE_2020_Jan_Jun.csv')\n",
    "data_2 = pd.read_csv('~/Downloads/EIA930_BALANCE_2020_Jul_Dec.csv')"
   ]
  },
  {
   "cell_type": "code",
   "execution_count": 3,
   "metadata": {},
   "outputs": [],
   "source": [
    "def change_cols_to_floats(dataframe,lst):\n",
    "    \n",
    "    for i in lst:\n",
    "        dataframe[i] = dataframe[i].str.replace(',', '')\n",
    "        dataframe[i] = dataframe[i].astype(float)\n",
    "    return dataframe\n",
    "\n",
    "def change_cols_to_floats2(dataframes_lst):\n",
    "    ''' converts list of dataframes for specific columns to floats and concating them, '''\n",
    "    \n",
    "    floated_dfs =[]\n",
    "    for df in dataframes_lst:\n",
    "        lst_cols = ['Demand (MW)','Net Generation (MW) from Natural Gas', 'Net Generation (MW) from Nuclear',\n",
    "                    'Net Generation (MW) from All Petroleum Products',\n",
    "                    'Net Generation (MW) from Hydropower and Pumped Storage', \n",
    "                    'Net Generation (MW) from Solar', 'Net Generation (MW) from Wind', \n",
    "                    'Net Generation (MW) from Other Fuel Sources','Net Generation (MW)',\n",
    "                    'Demand Forecast (MW)', 'Total Interchange (MW)', \n",
    "                    'Net Generation (MW) (Adjusted)','Net Generation (MW) from Coal',\n",
    "                    'Sum(Valid DIBAs) (MW)','Demand (MW) (Imputed)',\n",
    "                    'Net Generation (MW) (Imputed)','Demand (MW) (Adjusted)']\n",
    "        for i in lst_cols:\n",
    "            df[i] = df[i].str.replace(',', '')\n",
    "            df[i] = df[i].astype(float)\n",
    "            floated_dfs.append(df)\n",
    "        result = pd.concat(floated_dfs)\n",
    "    return result\n",
    "\n",
    "\n",
    "def make_date_time_col(df):\n",
    "    df['Hour Number'] = df_total['Hour Number'].replace(24, 0)\n",
    "    df['Hour Number'] = df_total['Hour Number'].replace(25, 0)\n",
    "    df['Data Date']= df['Data Date'].astype(str)\n",
    "    df['Hour Number'] = df['Hour Number'].astype(str)\n",
    "    df['New_datetime'] = df['Data Date'].map(str) + \" \" + df['Hour Number']\n",
    "    df['Hour Number'] = df['Hour Number'].astype(int)\n",
    "    \n",
    "    return df\n",
    "\n",
    "def make_date_time_col2(df):\n",
    "    \n",
    "    df['Hour Number'] = df_total['Hour Number'].replace(24, 0)\n",
    "    df['Hour Number'] = df_total['Hour Number'].replace(25, 0)\n",
    "    df['Data Date']= df['Data Date'].astype(str)\n",
    "    df['Hour Number'] = df['Hour Number'].astype(str)\n",
    "    df['New_datetime'] = df['Data Date'].map(str) + \" \" + df['Hour Number']\n",
    "    df['Hour Number'] = df['Hour Number'].astype(int)\n",
    "    df['New_datetime']= df['New_datetime'].apply(lambda x:f'{x}:00:00')\n",
    "    df['New_datetime'] = pd.to_datetime(df['New_datetime'],infer_datetime_format=True, format ='%m/%d/%Y %H')\n",
    "    df['Demand Delta'] = df['Demand Forecast (MW)']- df['Demand (MW)']\n",
    "    df['Net Generation Delta'] = df['Net Generation (MW)']- df['Demand (MW)']\n",
    "    print('done')\n",
    "    return df\n",
    "\n",
    "def make_hourly_demand_means(df,lst):\n",
    "    d = {}\n",
    "    for i in lst:\n",
    "        filt =df['Hour Number']==i\n",
    "        d[i] = df.loc[filt]['Demand (MW)'].mean()\n",
    "    return d\n",
    "\n",
    "def graph_maker_for_energy_type_by_hour(df,column, lst = np.arange(0,24)):\n",
    "    \n",
    "    d= {}\n",
    "    for i in lst:\n",
    "        filt =df['Hour Number']==i\n",
    "        hour_avg = df.loc[filt][column].mean()\n",
    "        d[i]=hour_avg\n",
    "    x = d.keys()\n",
    "    y = d.values()\n",
    "    fig, ax =plt.subplots(figsize = (8,8))\n",
    "    ax.plot(x, y)\n",
    "    ax.set_title(column)\n",
    "    ax.set_xlabel('Hours in Day')\n",
    "    ax.set_xticks(lst)\n",
    "    \n",
    "    \n",
    "    plt.show()\n",
    "\n",
    "# def graph_maker_for_energy_type_by_hour_w_std(df,column, lst = np.arange(0,24)):\n",
    "    \n",
    "#     d= {}\n",
    "#     d2 = {}\n",
    "#     for i in lst:\n",
    "#         filt =df['Hour Number']==i\n",
    "#         hour_avg = df.loc[filt][column].mean()\n",
    "#         std_dev = df.loc[filt][column].std()\n",
    "#         d[i]=hour_avg\n",
    "#         d2[i]=std_dev\n",
    "#     print(d)\n",
    "#     print(d2)\n",
    "#     x = d.keys()\n",
    "#     y = d.values()\n",
    "#     yerr = d2.values()\n",
    "#     fig, ax =plt.subplots(figsize = (8,8))\n",
    "#     ax.errorbar(x, y, yerr = yerr)\n",
    "#     ax.set_title(column)\n",
    "#     ax.set_xlabel('Hours in Day')\n",
    "#     ax.set_xticks(lst)\n",
    "    \n",
    "    \n",
    "#     plt.show()"
   ]
  },
  {
   "cell_type": "code",
   "execution_count": 4,
   "metadata": {},
   "outputs": [],
   "source": [
    "lst_csv = [data, data_2]\n",
    "df_total = change_cols_to_floats2(lst_csv)"
   ]
  },
  {
   "cell_type": "code",
   "execution_count": 5,
   "metadata": {},
   "outputs": [
    {
     "name": "stdout",
     "output_type": "stream",
     "text": [
      "done\n"
     ]
    }
   ],
   "source": [
    "df_total = make_date_time_col2(df_total)"
   ]
  },
  {
   "cell_type": "code",
   "execution_count": null,
   "metadata": {},
   "outputs": [],
   "source": [
    "df_total"
   ]
  },
  {
   "cell_type": "code",
   "execution_count": null,
   "metadata": {},
   "outputs": [],
   "source": [
    "# df_total['New_datetime']= df_total['New_datetime'].apply(lambda x:f'{x}:00:00')"
   ]
  },
  {
   "cell_type": "code",
   "execution_count": null,
   "metadata": {},
   "outputs": [],
   "source": [
    "# df_total['Demand Delta'] = df_total['Demand Forecast (MW)']- df_total['Demand (MW)']"
   ]
  },
  {
   "cell_type": "code",
   "execution_count": null,
   "metadata": {},
   "outputs": [],
   "source": [
    "# df_total['Net Generation Delta'] = df_total['Net Generation (MW)']- df_total['Demand (MW)']"
   ]
  },
  {
   "cell_type": "code",
   "execution_count": null,
   "metadata": {
    "scrolled": true
   },
   "outputs": [],
   "source": [
    "graph_maker_for_energy_type_by_hour(df_total,'Demand Delta') "
   ]
  },
  {
   "cell_type": "code",
   "execution_count": null,
   "metadata": {},
   "outputs": [],
   "source": [
    "# lst_cols = ['Demand (MW)','Net Generation (MW) from Natural Gas', 'Net Generation (MW) from Nuclear','Net Generation (MW) from All Petroleum Products','Net Generation (MW) from Hydropower and Pumped Storage', 'Net Generation (MW) from Solar', 'Net Generation (MW) from Wind', 'Net Generation (MW) from Other Fuel Sources','Net Generation (MW)','Demand Forecast (MW)', 'Total Interchange (MW)', 'Net Generation (MW) (Adjusted)','Net Generation (MW) from Coal','Sum(Valid DIBAs) (MW)','Demand (MW) (Imputed)', 'Net Generation (MW) (Imputed)','Demand (MW) (Adjusted)']\n",
    "# data_convert = change_cols_to_floats(data, lst_cols)\n",
    "# data_2_convert = change_cols_to_floats(data_2, lst_cols)"
   ]
  },
  {
   "cell_type": "code",
   "execution_count": null,
   "metadata": {},
   "outputs": [],
   "source": [
    "# lst_data = [data_convert,data_2_convert]\n",
    "# df_total = pd.concat(lst_data)"
   ]
  },
  {
   "cell_type": "code",
   "execution_count": null,
   "metadata": {},
   "outputs": [],
   "source": [
    "# make_date_time_col(df_total)"
   ]
  },
  {
   "cell_type": "code",
   "execution_count": null,
   "metadata": {},
   "outputs": [],
   "source": [
    "# df_total['New_datetime']= df_total['New_datetime'].apply(lambda x:f'{x}:00:00')"
   ]
  },
  {
   "cell_type": "code",
   "execution_count": null,
   "metadata": {},
   "outputs": [],
   "source": [
    "# df_total['New_datetime'] = pd.to_datetime(df_total['New_datetime'],infer_datetime_format=True, format ='%m/%d/%Y %H')"
   ]
  },
  {
   "cell_type": "code",
   "execution_count": null,
   "metadata": {},
   "outputs": [],
   "source": [
    "# df_total['Demand Delta'] = df_total['Demand Forecast (MW)']- df_total['Demand (MW)']"
   ]
  },
  {
   "cell_type": "code",
   "execution_count": null,
   "metadata": {},
   "outputs": [],
   "source": [
    "# df_total['Net Generation Delta'] = df_total['Net Generation (MW)']- df_total['Demand (MW)']"
   ]
  },
  {
   "cell_type": "code",
   "execution_count": null,
   "metadata": {},
   "outputs": [],
   "source": [
    "# lst_hours = np.arange(0,24)  \n",
    "\n"
   ]
  },
  {
   "cell_type": "code",
   "execution_count": null,
   "metadata": {},
   "outputs": [],
   "source": [
    "make_hourly_demand_means(df_total)"
   ]
  },
  {
   "cell_type": "code",
   "execution_count": null,
   "metadata": {},
   "outputs": [],
   "source": [
    "def graph_maker_for_energy_type_by_hour2(df,column, lst = np.arange(0,24)):\n",
    "    \n",
    "    d= {}\n",
    "    d2 = {}\n",
    "    for i in lst:\n",
    "        filt =df['Hour Number']==i\n",
    "        hour_avg = df.loc[filt][column].mean()\n",
    "        std_dev = df.loc[filt][column].std()\n",
    "        d[i]=hour_avg\n",
    "        d2[i]=std_dev\n",
    "    print(d)\n",
    "    print(d2)\n",
    "    x = d.keys()\n",
    "    y = d.values()\n",
    "    fig, ax =plt.subplots(figsize = (8,8))\n",
    "    ax.plot(x, y)\n",
    "    ax.set_title(column)\n",
    "    ax.set_xlabel('Hours in Day')\n",
    "    ax.set_xticks(lst)\n",
    "    \n",
    "    \n",
    "    plt.show()"
   ]
  },
  {
   "cell_type": "code",
   "execution_count": null,
   "metadata": {},
   "outputs": [],
   "source": [
    "graph_maker_for_energy_type_by_hour2(df_total,'Demand Delta') "
   ]
  },
  {
   "cell_type": "code",
   "execution_count": null,
   "metadata": {},
   "outputs": [],
   "source": []
  },
  {
   "cell_type": "markdown",
   "metadata": {},
   "source": [
    "# TEXAS ERCOT"
   ]
  },
  {
   "cell_type": "code",
   "execution_count": null,
   "metadata": {},
   "outputs": [],
   "source": [
    "filter_1 = df_total['Balancing Authority'] == 'ERCO'\n",
    "df_texas = df_total[filter_1]\n",
    "df_texas"
   ]
  },
  {
   "cell_type": "code",
   "execution_count": null,
   "metadata": {},
   "outputs": [],
   "source": [
    "graph_maker_for_energy_type_by_hour2(df_texas,'Demand Delta') "
   ]
  },
  {
   "cell_type": "code",
   "execution_count": null,
   "metadata": {},
   "outputs": [],
   "source": [
    "def graph_maker_for_energy_type_by_hour_w_std(df,column, lst = np.arange(0,24)):\n",
    "    \n",
    "    d= {}\n",
    "    d2 = {}\n",
    "    for i in lst:\n",
    "        filt =df['Hour Number']==i\n",
    "        hour_avg = df.loc[filt][column].mean()\n",
    "        std_dev = df.loc[filt][column].std()\n",
    "        d[i]=hour_avg\n",
    "        d2[i]=std_dev\n",
    "    print(d)\n",
    "    print(d2)\n",
    "    x = d.keys()\n",
    "    y = d.values()\n",
    "    yerr = d2.values()\n",
    "    fig, ax =plt.subplots(figsize = (8,8))\n",
    "    ax.errorbar(x, y, yerr = yerr)\n",
    "    ax.set_title(column)\n",
    "    ax.set_xlabel('Hours in Day')\n",
    "    ax.set_xticks(lst)\n",
    "    \n",
    "    \n",
    "    plt.show()"
   ]
  },
  {
   "cell_type": "code",
   "execution_count": null,
   "metadata": {},
   "outputs": [],
   "source": [
    "graph_maker_for_energy_type_by_hour_w_std(df_total,'Demand Delta', lst = np.arange(0,24))"
   ]
  },
  {
   "cell_type": "code",
   "execution_count": null,
   "metadata": {},
   "outputs": [],
   "source": [
    "df_texas.hist(sharex = True, sharey = True, figsize= (16, 16))"
   ]
  },
  {
   "cell_type": "code",
   "execution_count": null,
   "metadata": {},
   "outputs": [],
   "source": [
    "df_texas['Demand Delta'].hist(figsize= (8, 8))"
   ]
  },
  {
   "cell_type": "code",
   "execution_count": null,
   "metadata": {},
   "outputs": [],
   "source": [
    "graph_maker_for_energy_type_by_hour(df_texas,'Demand (MW)') \n",
    "df_texas.columns"
   ]
  },
  {
   "cell_type": "code",
   "execution_count": null,
   "metadata": {},
   "outputs": [],
   "source": [
    "catagories_lst = ['Demand Forecast (MW)''Net Generation (MW) (Imputed)',\n",
    "       'Demand (MW) (Adjusted)', 'Net Generation (MW) (Adjusted)',\n",
    "       'Net Generation (MW) from Coal', 'Net Generation (MW) from Natural Gas',\n",
    "       'Net Generation (MW) from Nuclear',\n",
    "       'Net Generation (MW) from All Petroleum Products',\n",
    "       'Net Generation (MW) from Hydropower and Pumped Storage',\n",
    "       'Net Generation (MW) from Solar', 'Net Generation (MW) from Wind','Demand Delta', 'Net Generation Delta']"
   ]
  },
  {
   "cell_type": "code",
   "execution_count": null,
   "metadata": {},
   "outputs": [],
   "source": [
    "del df_texas['UTC Time at End of Hour']\n",
    "del df_texas['Balancing Authority']\n",
    "del df_texas['Net Generation (MW) (Imputed)']\n",
    "del df_texas['Demand (MW) (Imputed)']\n",
    "del df_texas['Net Generation (MW) from All Petroleum Products']\n",
    "del df_texas['Net Generation (MW) from Unknown Fuel Sources']\n",
    "del df_texas['Data Date']\n",
    "del df_texas['Hour Number']\n",
    "del df_texas['Local Time at End of Hour']\n",
    "df_texas"
   ]
  },
  {
   "cell_type": "code",
   "execution_count": null,
   "metadata": {},
   "outputs": [],
   "source": [
    "df_texas.info()"
   ]
  },
  {
   "cell_type": "code",
   "execution_count": null,
   "metadata": {},
   "outputs": [],
   "source": [
    "df_texas\n"
   ]
  },
  {
   "cell_type": "code",
   "execution_count": null,
   "metadata": {},
   "outputs": [],
   "source": [
    "df_texas.to_csv (r'/Users/cp/Desktop/capstone2/DF_TEXAS_FINAL_ENERGY_cleanv1.csv', index = False, header=True)"
   ]
  },
  {
   "cell_type": "code",
   "execution_count": null,
   "metadata": {},
   "outputs": [],
   "source": [
    "df_dallas =pd.read_csv('/Users/cp/Desktop/capstone2/DALLASV1_FINAL_WEATHER.csv')"
   ]
  },
  {
   "cell_type": "code",
   "execution_count": null,
   "metadata": {},
   "outputs": [],
   "source": []
  },
  {
   "cell_type": "code",
   "execution_count": null,
   "metadata": {},
   "outputs": [],
   "source": [
    "df_texas.info()"
   ]
  },
  {
   "cell_type": "code",
   "execution_count": null,
   "metadata": {},
   "outputs": [],
   "source": [
    "df_dallas['New_datetime'] = pd.to_datetime(df_dallas['New_datetime'],infer_datetime_format=True,format ='%m/%d/%Y %H')"
   ]
  },
  {
   "cell_type": "code",
   "execution_count": null,
   "metadata": {},
   "outputs": [],
   "source": [
    "Energy_Houston_weather=df_texas.merge(df_dallas, left_on ='New_datetime', right_on='New_datetime' )"
   ]
  },
  {
   "cell_type": "code",
   "execution_count": null,
   "metadata": {
    "scrolled": true
   },
   "outputs": [],
   "source": [
    "Energy_Houston_weather"
   ]
  },
  {
   "cell_type": "code",
   "execution_count": null,
   "metadata": {},
   "outputs": [],
   "source": [
    "Energy_Houston_weather.cloud.value_counts()"
   ]
  },
  {
   "cell_type": "code",
   "execution_count": null,
   "metadata": {},
   "outputs": [],
   "source": [
    "Energy_Houston_weather.columns"
   ]
  },
  {
   "cell_type": "code",
   "execution_count": null,
   "metadata": {},
   "outputs": [],
   "source": [
    "Energy_Houston_weather['Demand Delta'].hist()"
   ]
  },
  {
   "cell_type": "code",
   "execution_count": null,
   "metadata": {},
   "outputs": [],
   "source": [
    "make_hourly_demand_means(Energy_Houston_weather) \n",
    "# graph_maker_for_energy_type_by_hour(df_total,'Net Generation (MW) from Nuclear') "
   ]
  },
  {
   "cell_type": "code",
   "execution_count": null,
   "metadata": {},
   "outputs": [],
   "source": [
    "def summary_model(X, y, label='scatter'):\n",
    "    X = sm.add_constant(X)\n",
    "    model = sm.OLS(y, X).fit()\n",
    "    summary = model.summary()\n",
    "    return summary\n",
    "\n",
    "def plot_model(X, y, label='Residual Plot'):\n",
    "    model = sm.OLS(y, X).fit()\n",
    "    student_resids = model.outlier_test()['student_resid']\n",
    "    y_hats = model.predict(X)\n",
    "\n",
    "    plt.scatter(y_hats, student_resids, alpha = .35, label=label)\n",
    "    plt.legend()\n",
    "    plt.show()"
   ]
  }
 ],
 "metadata": {
  "kernelspec": {
   "display_name": "Python 3",
   "language": "python",
   "name": "python3"
  },
  "language_info": {
   "codemirror_mode": {
    "name": "ipython",
    "version": 3
   },
   "file_extension": ".py",
   "mimetype": "text/x-python",
   "name": "python",
   "nbconvert_exporter": "python",
   "pygments_lexer": "ipython3",
   "version": "3.7.9"
  }
 },
 "nbformat": 4,
 "nbformat_minor": 4
}
