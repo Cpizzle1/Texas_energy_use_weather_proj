{
 "cells": [
  {
   "cell_type": "code",
   "execution_count": 57,
   "metadata": {},
   "outputs": [],
   "source": [
    "import pandas as pd\n",
    "import numpy as np\n",
    "import matplotlib.pyplot as plt\n",
    "plt.style.use('ggplot')\n",
    "import seaborn as sbn\n",
    "import scipy.stats as stats\n",
    "from pandas.plotting import scatter_matrix\n",
    "import statsmodels.api as sm\n",
    "import datetime as dt\n",
    "import pandasql as ps\n",
    "\n",
    "\n",
    "\n",
    "import pandas as pd\n",
    "import numpy as np\n",
    "from sklearn.impute import KNNImputer\n",
    "\n",
    "# from clean_data import *\n",
    "\n",
    "\n",
    "from sklearn.tree import DecisionTreeRegressor\n",
    "from sklearn.ensemble import RandomForestRegressor\n",
    "from sklearn.ensemble import GradientBoostingRegressor\n",
    "from sklearn.datasets import load_boston\n",
    "from sklearn.model_selection import train_test_split, cross_val_score\n",
    "from sklearn.model_selection import GridSearchCV\n",
    "from sklearn.metrics import mean_squared_error, r2_score\n",
    "import matplotlib.pyplot as plt\n",
    "import numpy as np\n",
    "from sklearn.tree import DecisionTreeRegressor\n",
    "from sklearn.ensemble import RandomForestRegressor\n",
    "from sklearn.ensemble import GradientBoostingRegressor\n",
    "from sklearn.datasets import load_boston\n",
    "from sklearn.model_selection import train_test_split, cross_val_score\n",
    "from sklearn.model_selection import GridSearchCV\n",
    "from sklearn.metrics import mean_squared_error, r2_score\n",
    "import matplotlib.pyplot as plt\n",
    "from sklearn.metrics import *\n",
    "\n",
    "from sklearn.linear_model import *"
   ]
  },
  {
   "cell_type": "code",
   "execution_count": 2,
   "metadata": {},
   "outputs": [],
   "source": [
    "df = pd.read_csv('~/Desktop/capstone2/WEATHER_CONVERTED&ENERGY_cleanv1.csv')"
   ]
  },
  {
   "cell_type": "code",
   "execution_count": 3,
   "metadata": {},
   "outputs": [
    {
     "name": "stdout",
     "output_type": "stream",
     "text": [
      "<class 'pandas.core.frame.DataFrame'>\n",
      "RangeIndex: 9328 entries, 0 to 9327\n",
      "Data columns (total 33 columns):\n",
      " #   Column                                                  Non-Null Count  Dtype  \n",
      "---  ------                                                  --------------  -----  \n",
      " 0   Demand Forecast (MW)                                    9328 non-null   float64\n",
      " 1   Demand (MW)                                             9328 non-null   float64\n",
      " 2   Net Generation (MW)                                     9328 non-null   float64\n",
      " 3   Total Interchange (MW)                                  9328 non-null   float64\n",
      " 4   Sum(Valid DIBAs) (MW)                                   9328 non-null   float64\n",
      " 5   Demand (MW) (Adjusted)                                  9328 non-null   float64\n",
      " 6   Net Generation (MW) (Adjusted)                          9328 non-null   float64\n",
      " 7   Net Generation (MW) from Coal                           9328 non-null   float64\n",
      " 8   Net Generation (MW) from Natural Gas                    9328 non-null   float64\n",
      " 9   Net Generation (MW) from Nuclear                        9328 non-null   float64\n",
      " 10  Net Generation (MW) from Hydropower and Pumped Storage  9328 non-null   float64\n",
      " 11  Net Generation (MW) from Solar                          9328 non-null   float64\n",
      " 12  Net Generation (MW) from Wind                           9328 non-null   float64\n",
      " 13  Net Generation (MW) from Other Fuel Sources             9328 non-null   float64\n",
      " 14  New_datetime                                            9328 non-null   object \n",
      " 15  Demand Delta                                            9328 non-null   float64\n",
      " 16  Net Generation Delta                                    9328 non-null   float64\n",
      " 17  temp                                                    9328 non-null   object \n",
      " 18  dew                                                     9328 non-null   object \n",
      " 19  humidity                                                9328 non-null   object \n",
      " 20  wind_speed                                              9328 non-null   object \n",
      " 21  pressure                                                9328 non-null   object \n",
      " 22  precip                                                  9328 non-null   object \n",
      " 23  cloud                                                   9327 non-null   object \n",
      " 24  New_datetime2                                           9328 non-null   object \n",
      " 25  time_rounded4                                           9328 non-null   object \n",
      " 26  Cloud_numerical                                         9327 non-null   float64\n",
      " 27  humdity1                                                9328 non-null   float64\n",
      " 28  precip1                                                 9328 non-null   float64\n",
      " 29  pressure1                                               9328 non-null   float64\n",
      " 30  temp1                                                   9328 non-null   float64\n",
      " 31  wind1                                                   9328 non-null   float64\n",
      " 32  dew1                                                    9328 non-null   float64\n",
      "dtypes: float64(23), object(10)\n",
      "memory usage: 2.3+ MB\n"
     ]
    }
   ],
   "source": [
    "df.info()"
   ]
  },
  {
   "cell_type": "code",
   "execution_count": 4,
   "metadata": {},
   "outputs": [],
   "source": [
    "df['New_datetime'] = pd.to_datetime(df['New_datetime'],infer_datetime_format=True, format ='%m/%d/%Y %H')"
   ]
  },
  {
   "cell_type": "code",
   "execution_count": 5,
   "metadata": {},
   "outputs": [
    {
     "name": "stdout",
     "output_type": "stream",
     "text": [
      "<class 'pandas.core.frame.DataFrame'>\n",
      "RangeIndex: 9328 entries, 0 to 9327\n",
      "Data columns (total 33 columns):\n",
      " #   Column                                                  Non-Null Count  Dtype         \n",
      "---  ------                                                  --------------  -----         \n",
      " 0   Demand Forecast (MW)                                    9328 non-null   float64       \n",
      " 1   Demand (MW)                                             9328 non-null   float64       \n",
      " 2   Net Generation (MW)                                     9328 non-null   float64       \n",
      " 3   Total Interchange (MW)                                  9328 non-null   float64       \n",
      " 4   Sum(Valid DIBAs) (MW)                                   9328 non-null   float64       \n",
      " 5   Demand (MW) (Adjusted)                                  9328 non-null   float64       \n",
      " 6   Net Generation (MW) (Adjusted)                          9328 non-null   float64       \n",
      " 7   Net Generation (MW) from Coal                           9328 non-null   float64       \n",
      " 8   Net Generation (MW) from Natural Gas                    9328 non-null   float64       \n",
      " 9   Net Generation (MW) from Nuclear                        9328 non-null   float64       \n",
      " 10  Net Generation (MW) from Hydropower and Pumped Storage  9328 non-null   float64       \n",
      " 11  Net Generation (MW) from Solar                          9328 non-null   float64       \n",
      " 12  Net Generation (MW) from Wind                           9328 non-null   float64       \n",
      " 13  Net Generation (MW) from Other Fuel Sources             9328 non-null   float64       \n",
      " 14  New_datetime                                            9328 non-null   datetime64[ns]\n",
      " 15  Demand Delta                                            9328 non-null   float64       \n",
      " 16  Net Generation Delta                                    9328 non-null   float64       \n",
      " 17  temp                                                    9328 non-null   object        \n",
      " 18  dew                                                     9328 non-null   object        \n",
      " 19  humidity                                                9328 non-null   object        \n",
      " 20  wind_speed                                              9328 non-null   object        \n",
      " 21  pressure                                                9328 non-null   object        \n",
      " 22  precip                                                  9328 non-null   object        \n",
      " 23  cloud                                                   9327 non-null   object        \n",
      " 24  New_datetime2                                           9328 non-null   object        \n",
      " 25  time_rounded4                                           9328 non-null   object        \n",
      " 26  Cloud_numerical                                         9327 non-null   float64       \n",
      " 27  humdity1                                                9328 non-null   float64       \n",
      " 28  precip1                                                 9328 non-null   float64       \n",
      " 29  pressure1                                               9328 non-null   float64       \n",
      " 30  temp1                                                   9328 non-null   float64       \n",
      " 31  wind1                                                   9328 non-null   float64       \n",
      " 32  dew1                                                    9328 non-null   float64       \n",
      "dtypes: datetime64[ns](1), float64(23), object(9)\n",
      "memory usage: 2.3+ MB\n"
     ]
    },
    {
     "data": {
      "text/html": [
       "<div>\n",
       "<style scoped>\n",
       "    .dataframe tbody tr th:only-of-type {\n",
       "        vertical-align: middle;\n",
       "    }\n",
       "\n",
       "    .dataframe tbody tr th {\n",
       "        vertical-align: top;\n",
       "    }\n",
       "\n",
       "    .dataframe thead th {\n",
       "        text-align: right;\n",
       "    }\n",
       "</style>\n",
       "<table border=\"1\" class=\"dataframe\">\n",
       "  <thead>\n",
       "    <tr style=\"text-align: right;\">\n",
       "      <th></th>\n",
       "      <th>Demand Forecast (MW)</th>\n",
       "      <th>Demand (MW)</th>\n",
       "      <th>Net Generation (MW)</th>\n",
       "      <th>Total Interchange (MW)</th>\n",
       "      <th>Sum(Valid DIBAs) (MW)</th>\n",
       "      <th>Demand (MW) (Adjusted)</th>\n",
       "      <th>Net Generation (MW) (Adjusted)</th>\n",
       "      <th>Net Generation (MW) from Coal</th>\n",
       "      <th>Net Generation (MW) from Natural Gas</th>\n",
       "      <th>Net Generation (MW) from Nuclear</th>\n",
       "      <th>...</th>\n",
       "      <th>cloud</th>\n",
       "      <th>New_datetime2</th>\n",
       "      <th>time_rounded4</th>\n",
       "      <th>Cloud_numerical</th>\n",
       "      <th>humdity1</th>\n",
       "      <th>precip1</th>\n",
       "      <th>pressure1</th>\n",
       "      <th>temp1</th>\n",
       "      <th>wind1</th>\n",
       "      <th>dew1</th>\n",
       "    </tr>\n",
       "  </thead>\n",
       "  <tbody>\n",
       "    <tr>\n",
       "      <th>0</th>\n",
       "      <td>38188.0</td>\n",
       "      <td>38186.0</td>\n",
       "      <td>38193.0</td>\n",
       "      <td>6.0</td>\n",
       "      <td>6.0</td>\n",
       "      <td>38186.0</td>\n",
       "      <td>38193.0</td>\n",
       "      <td>4205.0</td>\n",
       "      <td>18572.0</td>\n",
       "      <td>5120.0</td>\n",
       "      <td>...</td>\n",
       "      <td>Fair</td>\n",
       "      <td>2020-02-01 01:00:00</td>\n",
       "      <td>2020-2-1 1:00:00</td>\n",
       "      <td>0.0</td>\n",
       "      <td>56.0</td>\n",
       "      <td>0.0</td>\n",
       "      <td>29.60</td>\n",
       "      <td>47.0</td>\n",
       "      <td>0.0</td>\n",
       "      <td>32.0</td>\n",
       "    </tr>\n",
       "    <tr>\n",
       "      <th>1</th>\n",
       "      <td>37912.0</td>\n",
       "      <td>37833.0</td>\n",
       "      <td>37840.0</td>\n",
       "      <td>6.0</td>\n",
       "      <td>6.0</td>\n",
       "      <td>37833.0</td>\n",
       "      <td>37840.0</td>\n",
       "      <td>3997.0</td>\n",
       "      <td>17313.0</td>\n",
       "      <td>5120.0</td>\n",
       "      <td>...</td>\n",
       "      <td>Fair</td>\n",
       "      <td>2020-02-01 02:00:00</td>\n",
       "      <td>2020-2-1 2:00:00</td>\n",
       "      <td>0.0</td>\n",
       "      <td>73.0</td>\n",
       "      <td>0.0</td>\n",
       "      <td>29.67</td>\n",
       "      <td>41.0</td>\n",
       "      <td>0.0</td>\n",
       "      <td>33.0</td>\n",
       "    </tr>\n",
       "    <tr>\n",
       "      <th>2</th>\n",
       "      <td>37911.0</td>\n",
       "      <td>37960.0</td>\n",
       "      <td>37967.0</td>\n",
       "      <td>6.0</td>\n",
       "      <td>6.0</td>\n",
       "      <td>37960.0</td>\n",
       "      <td>37967.0</td>\n",
       "      <td>3921.0</td>\n",
       "      <td>16213.0</td>\n",
       "      <td>5120.0</td>\n",
       "      <td>...</td>\n",
       "      <td>Fair</td>\n",
       "      <td>2020-02-01 03:00:00</td>\n",
       "      <td>2020-2-1 3:00:00</td>\n",
       "      <td>0.0</td>\n",
       "      <td>79.0</td>\n",
       "      <td>0.0</td>\n",
       "      <td>29.67</td>\n",
       "      <td>39.0</td>\n",
       "      <td>0.0</td>\n",
       "      <td>33.0</td>\n",
       "    </tr>\n",
       "    <tr>\n",
       "      <th>3</th>\n",
       "      <td>38216.0</td>\n",
       "      <td>38315.0</td>\n",
       "      <td>38322.0</td>\n",
       "      <td>6.0</td>\n",
       "      <td>6.0</td>\n",
       "      <td>38315.0</td>\n",
       "      <td>38322.0</td>\n",
       "      <td>4012.0</td>\n",
       "      <td>15321.0</td>\n",
       "      <td>5120.0</td>\n",
       "      <td>...</td>\n",
       "      <td>Fair</td>\n",
       "      <td>2020-02-01 04:00:00</td>\n",
       "      <td>2020-2-1 4:00:00</td>\n",
       "      <td>0.0</td>\n",
       "      <td>82.0</td>\n",
       "      <td>0.0</td>\n",
       "      <td>29.68</td>\n",
       "      <td>37.0</td>\n",
       "      <td>0.0</td>\n",
       "      <td>32.0</td>\n",
       "    </tr>\n",
       "    <tr>\n",
       "      <th>4</th>\n",
       "      <td>38881.0</td>\n",
       "      <td>39174.0</td>\n",
       "      <td>39248.0</td>\n",
       "      <td>74.0</td>\n",
       "      <td>73.0</td>\n",
       "      <td>39174.0</td>\n",
       "      <td>39248.0</td>\n",
       "      <td>4202.0</td>\n",
       "      <td>16203.0</td>\n",
       "      <td>5120.0</td>\n",
       "      <td>...</td>\n",
       "      <td>Fair</td>\n",
       "      <td>2020-02-01 05:00:00</td>\n",
       "      <td>2020-2-1 5:00:00</td>\n",
       "      <td>0.0</td>\n",
       "      <td>82.0</td>\n",
       "      <td>0.0</td>\n",
       "      <td>29.67</td>\n",
       "      <td>36.0</td>\n",
       "      <td>0.0</td>\n",
       "      <td>31.0</td>\n",
       "    </tr>\n",
       "  </tbody>\n",
       "</table>\n",
       "<p>5 rows × 33 columns</p>\n",
       "</div>"
      ],
      "text/plain": [
       "   Demand Forecast (MW)  Demand (MW)  Net Generation (MW)  \\\n",
       "0               38188.0      38186.0              38193.0   \n",
       "1               37912.0      37833.0              37840.0   \n",
       "2               37911.0      37960.0              37967.0   \n",
       "3               38216.0      38315.0              38322.0   \n",
       "4               38881.0      39174.0              39248.0   \n",
       "\n",
       "   Total Interchange (MW)  Sum(Valid DIBAs) (MW)  Demand (MW) (Adjusted)  \\\n",
       "0                     6.0                    6.0                 38186.0   \n",
       "1                     6.0                    6.0                 37833.0   \n",
       "2                     6.0                    6.0                 37960.0   \n",
       "3                     6.0                    6.0                 38315.0   \n",
       "4                    74.0                   73.0                 39174.0   \n",
       "\n",
       "   Net Generation (MW) (Adjusted)  Net Generation (MW) from Coal  \\\n",
       "0                         38193.0                         4205.0   \n",
       "1                         37840.0                         3997.0   \n",
       "2                         37967.0                         3921.0   \n",
       "3                         38322.0                         4012.0   \n",
       "4                         39248.0                         4202.0   \n",
       "\n",
       "   Net Generation (MW) from Natural Gas  Net Generation (MW) from Nuclear  \\\n",
       "0                               18572.0                            5120.0   \n",
       "1                               17313.0                            5120.0   \n",
       "2                               16213.0                            5120.0   \n",
       "3                               15321.0                            5120.0   \n",
       "4                               16203.0                            5120.0   \n",
       "\n",
       "   ...  cloud        New_datetime2     time_rounded4  Cloud_numerical  \\\n",
       "0  ...   Fair  2020-02-01 01:00:00  2020-2-1 1:00:00              0.0   \n",
       "1  ...   Fair  2020-02-01 02:00:00  2020-2-1 2:00:00              0.0   \n",
       "2  ...   Fair  2020-02-01 03:00:00  2020-2-1 3:00:00              0.0   \n",
       "3  ...   Fair  2020-02-01 04:00:00  2020-2-1 4:00:00              0.0   \n",
       "4  ...   Fair  2020-02-01 05:00:00  2020-2-1 5:00:00              0.0   \n",
       "\n",
       "  humdity1  precip1  pressure1 temp1 wind1  dew1  \n",
       "0     56.0      0.0      29.60  47.0   0.0  32.0  \n",
       "1     73.0      0.0      29.67  41.0   0.0  33.0  \n",
       "2     79.0      0.0      29.67  39.0   0.0  33.0  \n",
       "3     82.0      0.0      29.68  37.0   0.0  32.0  \n",
       "4     82.0      0.0      29.67  36.0   0.0  31.0  \n",
       "\n",
       "[5 rows x 33 columns]"
      ]
     },
     "execution_count": 5,
     "metadata": {},
     "output_type": "execute_result"
    }
   ],
   "source": [
    "df.info()\n",
    "df.head()"
   ]
  },
  {
   "cell_type": "code",
   "execution_count": 6,
   "metadata": {},
   "outputs": [],
   "source": [
    "def del_non_num_cols(df):\n",
    "    lst =['hour', 'Date', 'new_hour_date','New_datetime2', 'time_rounded', 'time_rounded2',\n",
    "           'time_rounded4','temp', 'dew', 'humidity',\n",
    "           'wind_speed','pressure','precip','cloud', 'Demand (MW)','Demand Forecast (MW)' ]\n",
    "\n",
    "    for i in df.columns:\n",
    "        if i in lst:\n",
    "            del df[i]\n",
    "            \n",
    "    return df"
   ]
  },
  {
   "cell_type": "code",
   "execution_count": 7,
   "metadata": {},
   "outputs": [],
   "source": [
    "df = del_non_num_cols(df)"
   ]
  },
  {
   "cell_type": "code",
   "execution_count": 8,
   "metadata": {},
   "outputs": [
    {
     "name": "stdout",
     "output_type": "stream",
     "text": [
      "<class 'pandas.core.frame.DataFrame'>\n",
      "RangeIndex: 9328 entries, 0 to 9327\n",
      "Data columns (total 22 columns):\n",
      " #   Column                                                  Non-Null Count  Dtype         \n",
      "---  ------                                                  --------------  -----         \n",
      " 0   Net Generation (MW)                                     9328 non-null   float64       \n",
      " 1   Total Interchange (MW)                                  9328 non-null   float64       \n",
      " 2   Sum(Valid DIBAs) (MW)                                   9328 non-null   float64       \n",
      " 3   Demand (MW) (Adjusted)                                  9328 non-null   float64       \n",
      " 4   Net Generation (MW) (Adjusted)                          9328 non-null   float64       \n",
      " 5   Net Generation (MW) from Coal                           9328 non-null   float64       \n",
      " 6   Net Generation (MW) from Natural Gas                    9328 non-null   float64       \n",
      " 7   Net Generation (MW) from Nuclear                        9328 non-null   float64       \n",
      " 8   Net Generation (MW) from Hydropower and Pumped Storage  9328 non-null   float64       \n",
      " 9   Net Generation (MW) from Solar                          9328 non-null   float64       \n",
      " 10  Net Generation (MW) from Wind                           9328 non-null   float64       \n",
      " 11  Net Generation (MW) from Other Fuel Sources             9328 non-null   float64       \n",
      " 12  New_datetime                                            9328 non-null   datetime64[ns]\n",
      " 13  Demand Delta                                            9328 non-null   float64       \n",
      " 14  Net Generation Delta                                    9328 non-null   float64       \n",
      " 15  Cloud_numerical                                         9327 non-null   float64       \n",
      " 16  humdity1                                                9328 non-null   float64       \n",
      " 17  precip1                                                 9328 non-null   float64       \n",
      " 18  pressure1                                               9328 non-null   float64       \n",
      " 19  temp1                                                   9328 non-null   float64       \n",
      " 20  wind1                                                   9328 non-null   float64       \n",
      " 21  dew1                                                    9328 non-null   float64       \n",
      "dtypes: datetime64[ns](1), float64(21)\n",
      "memory usage: 1.6 MB\n"
     ]
    }
   ],
   "source": [
    "df.info()"
   ]
  },
  {
   "cell_type": "code",
   "execution_count": 9,
   "metadata": {},
   "outputs": [
    {
     "name": "stdout",
     "output_type": "stream",
     "text": [
      "<class 'pandas.core.frame.DataFrame'>\n",
      "RangeIndex: 9328 entries, 0 to 9327\n",
      "Data columns (total 22 columns):\n",
      " #   Column                                                  Non-Null Count  Dtype         \n",
      "---  ------                                                  --------------  -----         \n",
      " 0   Net Generation (MW)                                     9328 non-null   float64       \n",
      " 1   Total Interchange (MW)                                  9328 non-null   float64       \n",
      " 2   Sum(Valid DIBAs) (MW)                                   9328 non-null   float64       \n",
      " 3   Demand (MW) (Adjusted)                                  9328 non-null   float64       \n",
      " 4   Net Generation (MW) (Adjusted)                          9328 non-null   float64       \n",
      " 5   Net Generation (MW) from Coal                           9328 non-null   float64       \n",
      " 6   Net Generation (MW) from Natural Gas                    9328 non-null   float64       \n",
      " 7   Net Generation (MW) from Nuclear                        9328 non-null   float64       \n",
      " 8   Net Generation (MW) from Hydropower and Pumped Storage  9328 non-null   float64       \n",
      " 9   Net Generation (MW) from Solar                          9328 non-null   float64       \n",
      " 10  Net Generation (MW) from Wind                           9328 non-null   float64       \n",
      " 11  Net Generation (MW) from Other Fuel Sources             9328 non-null   float64       \n",
      " 12  New_datetime                                            9328 non-null   datetime64[ns]\n",
      " 13  Demand Delta                                            9328 non-null   float64       \n",
      " 14  Net Generation Delta                                    9328 non-null   float64       \n",
      " 15  Cloud_numerical                                         9327 non-null   float64       \n",
      " 16  humdity1                                                9328 non-null   float64       \n",
      " 17  precip1                                                 9328 non-null   float64       \n",
      " 18  pressure1                                               9328 non-null   float64       \n",
      " 19  temp1                                                   9328 non-null   float64       \n",
      " 20  wind1                                                   9328 non-null   float64       \n",
      " 21  dew1                                                    9328 non-null   float64       \n",
      "dtypes: datetime64[ns](1), float64(21)\n",
      "memory usage: 1.6 MB\n"
     ]
    }
   ],
   "source": [
    "df.info()"
   ]
  },
  {
   "cell_type": "code",
   "execution_count": 10,
   "metadata": {},
   "outputs": [],
   "source": [
    "del df['New_datetime']"
   ]
  },
  {
   "cell_type": "code",
   "execution_count": 11,
   "metadata": {},
   "outputs": [],
   "source": [
    "train, validate, test = np.split(df.sample(frac=1), [int(.6*len(df)), int(.8*len(df))])"
   ]
  },
  {
   "cell_type": "code",
   "execution_count": 12,
   "metadata": {},
   "outputs": [],
   "source": [
    "train, validate, test = np.split(df.sample(frac=1), [int(.6*len(df)), int(.8*len(df))])"
   ]
  },
  {
   "cell_type": "code",
   "execution_count": 13,
   "metadata": {},
   "outputs": [],
   "source": [
    "from sklearn.tree import DecisionTreeRegressor\n",
    "from sklearn.ensemble import RandomForestRegressor\n",
    "from sklearn.ensemble import GradientBoostingRegressor\n",
    "from sklearn.model_selection import train_test_split, cross_val_score\n",
    "from sklearn.model_selection import GridSearchCV\n",
    "from sklearn.metrics import mean_squared_error, r2_score\n",
    "import matplotlib.pyplot as plt\n",
    "\n",
    "from sklearn.tree import DecisionTreeRegressor\n",
    "from sklearn.ensemble import RandomForestRegressor\n",
    "from sklearn.ensemble import GradientBoostingRegressor\n",
    "from sklearn.metrics import *\n"
   ]
  },
  {
   "cell_type": "code",
   "execution_count": 14,
   "metadata": {},
   "outputs": [
    {
     "name": "stdout",
     "output_type": "stream",
     "text": [
      "<class 'pandas.core.frame.DataFrame'>\n",
      "RangeIndex: 9328 entries, 0 to 9327\n",
      "Data columns (total 21 columns):\n",
      " #   Column                                                  Non-Null Count  Dtype  \n",
      "---  ------                                                  --------------  -----  \n",
      " 0   Net Generation (MW)                                     9328 non-null   float64\n",
      " 1   Total Interchange (MW)                                  9328 non-null   float64\n",
      " 2   Sum(Valid DIBAs) (MW)                                   9328 non-null   float64\n",
      " 3   Demand (MW) (Adjusted)                                  9328 non-null   float64\n",
      " 4   Net Generation (MW) (Adjusted)                          9328 non-null   float64\n",
      " 5   Net Generation (MW) from Coal                           9328 non-null   float64\n",
      " 6   Net Generation (MW) from Natural Gas                    9328 non-null   float64\n",
      " 7   Net Generation (MW) from Nuclear                        9328 non-null   float64\n",
      " 8   Net Generation (MW) from Hydropower and Pumped Storage  9328 non-null   float64\n",
      " 9   Net Generation (MW) from Solar                          9328 non-null   float64\n",
      " 10  Net Generation (MW) from Wind                           9328 non-null   float64\n",
      " 11  Net Generation (MW) from Other Fuel Sources             9328 non-null   float64\n",
      " 12  Demand Delta                                            9328 non-null   float64\n",
      " 13  Net Generation Delta                                    9328 non-null   float64\n",
      " 14  Cloud_numerical                                         9327 non-null   float64\n",
      " 15  humdity1                                                9328 non-null   float64\n",
      " 16  precip1                                                 9328 non-null   float64\n",
      " 17  pressure1                                               9328 non-null   float64\n",
      " 18  temp1                                                   9328 non-null   float64\n",
      " 19  wind1                                                   9328 non-null   float64\n",
      " 20  dew1                                                    9328 non-null   float64\n",
      "dtypes: float64(21)\n",
      "memory usage: 1.5 MB\n"
     ]
    }
   ],
   "source": [
    "df.info()"
   ]
  },
  {
   "cell_type": "code",
   "execution_count": 15,
   "metadata": {},
   "outputs": [],
   "source": [
    "y = df.pop('Demand Delta')"
   ]
  },
  {
   "cell_type": "code",
   "execution_count": 16,
   "metadata": {},
   "outputs": [
    {
     "name": "stdout",
     "output_type": "stream",
     "text": [
      "<class 'pandas.core.frame.DataFrame'>\n",
      "RangeIndex: 9328 entries, 0 to 9327\n",
      "Data columns (total 20 columns):\n",
      " #   Column                                                  Non-Null Count  Dtype  \n",
      "---  ------                                                  --------------  -----  \n",
      " 0   Net Generation (MW)                                     9328 non-null   float64\n",
      " 1   Total Interchange (MW)                                  9328 non-null   float64\n",
      " 2   Sum(Valid DIBAs) (MW)                                   9328 non-null   float64\n",
      " 3   Demand (MW) (Adjusted)                                  9328 non-null   float64\n",
      " 4   Net Generation (MW) (Adjusted)                          9328 non-null   float64\n",
      " 5   Net Generation (MW) from Coal                           9328 non-null   float64\n",
      " 6   Net Generation (MW) from Natural Gas                    9328 non-null   float64\n",
      " 7   Net Generation (MW) from Nuclear                        9328 non-null   float64\n",
      " 8   Net Generation (MW) from Hydropower and Pumped Storage  9328 non-null   float64\n",
      " 9   Net Generation (MW) from Solar                          9328 non-null   float64\n",
      " 10  Net Generation (MW) from Wind                           9328 non-null   float64\n",
      " 11  Net Generation (MW) from Other Fuel Sources             9328 non-null   float64\n",
      " 12  Net Generation Delta                                    9328 non-null   float64\n",
      " 13  Cloud_numerical                                         9327 non-null   float64\n",
      " 14  humdity1                                                9328 non-null   float64\n",
      " 15  precip1                                                 9328 non-null   float64\n",
      " 16  pressure1                                               9328 non-null   float64\n",
      " 17  temp1                                                   9328 non-null   float64\n",
      " 18  wind1                                                   9328 non-null   float64\n",
      " 19  dew1                                                    9328 non-null   float64\n",
      "dtypes: float64(20)\n",
      "memory usage: 1.4 MB\n"
     ]
    }
   ],
   "source": [
    "X = df\n",
    "X.info()"
   ]
  },
  {
   "cell_type": "code",
   "execution_count": 50,
   "metadata": {},
   "outputs": [],
   "source": [
    "X_train, X_test, y_train, y_test = train_test_split(X, y, test_size=0.20, random_state=1)"
   ]
  },
  {
   "cell_type": "code",
   "execution_count": 51,
   "metadata": {},
   "outputs": [],
   "source": [
    "rf = RandomForestRegressor(n_estimators=100,\n",
    "                            n_jobs=-1,\n",
    "                            random_state=1)\n",
    "\n",
    "gdbr = GradientBoostingRegressor(learning_rate=0.1,\n",
    "                                  loss='ls',\n",
    "                                  n_estimators=100,\n",
    "                                  random_state=1)\n",
    "\n",
    "dtr = DecisionTreeRegressor(random_state=1)\n",
    "\n",
    "gdbr_bad = GradientBoostingRegressor(learning_rate=1,\n",
    "                                  loss='ls',\n",
    "                                  n_estimators=100,\n",
    "                                  random_state=1)"
   ]
  },
  {
   "cell_type": "code",
   "execution_count": 52,
   "metadata": {},
   "outputs": [
    {
     "name": "stdout",
     "output_type": "stream",
     "text": [
      "For RandomForestRegressor(n_jobs=-1, random_state=1), the neg_mean_squared_error score is 628431.63\n",
      "For RandomForestRegressor(n_jobs=-1, random_state=1), the r2 score is 0.69\n",
      "For GradientBoostingRegressor(random_state=1), the neg_mean_squared_error score is 1243764.94\n",
      "For GradientBoostingRegressor(random_state=1), the r2 score is 0.38\n",
      "For DecisionTreeRegressor(random_state=1), the neg_mean_squared_error score is 1348686.15\n",
      "For DecisionTreeRegressor(random_state=1), the r2 score is 0.32\n"
     ]
    }
   ],
   "source": []
  },
  {
   "cell_type": "code",
   "execution_count": 21,
   "metadata": {},
   "outputs": [
    {
     "name": "stdout",
     "output_type": "stream",
     "text": [
      "<class 'pandas.core.frame.DataFrame'>\n",
      "RangeIndex: 9328 entries, 0 to 9327\n",
      "Data columns (total 20 columns):\n",
      " #   Column                                                  Non-Null Count  Dtype  \n",
      "---  ------                                                  --------------  -----  \n",
      " 0   Net Generation (MW)                                     9328 non-null   float64\n",
      " 1   Total Interchange (MW)                                  9328 non-null   float64\n",
      " 2   Sum(Valid DIBAs) (MW)                                   9328 non-null   float64\n",
      " 3   Demand (MW) (Adjusted)                                  9328 non-null   float64\n",
      " 4   Net Generation (MW) (Adjusted)                          9328 non-null   float64\n",
      " 5   Net Generation (MW) from Coal                           9328 non-null   float64\n",
      " 6   Net Generation (MW) from Natural Gas                    9328 non-null   float64\n",
      " 7   Net Generation (MW) from Nuclear                        9328 non-null   float64\n",
      " 8   Net Generation (MW) from Hydropower and Pumped Storage  9328 non-null   float64\n",
      " 9   Net Generation (MW) from Solar                          9328 non-null   float64\n",
      " 10  Net Generation (MW) from Wind                           9328 non-null   float64\n",
      " 11  Net Generation (MW) from Other Fuel Sources             9328 non-null   float64\n",
      " 12  Net Generation Delta                                    9328 non-null   float64\n",
      " 13  Cloud_numerical                                         9327 non-null   float64\n",
      " 14  humdity1                                                9328 non-null   float64\n",
      " 15  precip1                                                 9328 non-null   float64\n",
      " 16  pressure1                                               9328 non-null   float64\n",
      " 17  temp1                                                   9328 non-null   float64\n",
      " 18  wind1                                                   9328 non-null   float64\n",
      " 19  dew1                                                    9328 non-null   float64\n",
      "dtypes: float64(20)\n",
      "memory usage: 1.4 MB\n"
     ]
    }
   ],
   "source": [
    "X.info()"
   ]
  },
  {
   "cell_type": "code",
   "execution_count": 24,
   "metadata": {},
   "outputs": [
    {
     "data": {
      "text/plain": [
       "0       0.0\n",
       "1       0.0\n",
       "2       0.0\n",
       "3       0.0\n",
       "4       0.0\n",
       "       ... \n",
       "9323    2.0\n",
       "9324    2.0\n",
       "9325    2.0\n",
       "9326    2.0\n",
       "9327    2.0\n",
       "Name: Cloud_numerical, Length: 9328, dtype: float64"
      ]
     },
     "execution_count": 24,
     "metadata": {},
     "output_type": "execute_result"
    }
   ],
   "source": [
    "X['Cloud_numerical']"
   ]
  },
  {
   "cell_type": "code",
   "execution_count": 29,
   "metadata": {},
   "outputs": [],
   "source": [
    "filt=X['Cloud_numerical'].dtype != float"
   ]
  },
  {
   "cell_type": "code",
   "execution_count": 32,
   "metadata": {},
   "outputs": [
    {
     "data": {
      "text/plain": [
       "<bound method Series.fillna of 0       0.0\n",
       "1       0.0\n",
       "2       0.0\n",
       "3       0.0\n",
       "4       0.0\n",
       "       ... \n",
       "9323    2.0\n",
       "9324    2.0\n",
       "9325    2.0\n",
       "9326    2.0\n",
       "9327    2.0\n",
       "Name: Cloud_numerical, Length: 9328, dtype: float64>"
      ]
     },
     "execution_count": 32,
     "metadata": {},
     "output_type": "execute_result"
    }
   ],
   "source": [
    "X['Cloud_numerical'].fillna"
   ]
  },
  {
   "cell_type": "code",
   "execution_count": 33,
   "metadata": {},
   "outputs": [
    {
     "name": "stdout",
     "output_type": "stream",
     "text": [
      "<class 'pandas.core.frame.DataFrame'>\n",
      "RangeIndex: 9328 entries, 0 to 9327\n",
      "Data columns (total 20 columns):\n",
      " #   Column                                                  Non-Null Count  Dtype  \n",
      "---  ------                                                  --------------  -----  \n",
      " 0   Net Generation (MW)                                     9328 non-null   float64\n",
      " 1   Total Interchange (MW)                                  9328 non-null   float64\n",
      " 2   Sum(Valid DIBAs) (MW)                                   9328 non-null   float64\n",
      " 3   Demand (MW) (Adjusted)                                  9328 non-null   float64\n",
      " 4   Net Generation (MW) (Adjusted)                          9328 non-null   float64\n",
      " 5   Net Generation (MW) from Coal                           9328 non-null   float64\n",
      " 6   Net Generation (MW) from Natural Gas                    9328 non-null   float64\n",
      " 7   Net Generation (MW) from Nuclear                        9328 non-null   float64\n",
      " 8   Net Generation (MW) from Hydropower and Pumped Storage  9328 non-null   float64\n",
      " 9   Net Generation (MW) from Solar                          9328 non-null   float64\n",
      " 10  Net Generation (MW) from Wind                           9328 non-null   float64\n",
      " 11  Net Generation (MW) from Other Fuel Sources             9328 non-null   float64\n",
      " 12  Net Generation Delta                                    9328 non-null   float64\n",
      " 13  Cloud_numerical                                         9327 non-null   float64\n",
      " 14  humdity1                                                9328 non-null   float64\n",
      " 15  precip1                                                 9328 non-null   float64\n",
      " 16  pressure1                                               9328 non-null   float64\n",
      " 17  temp1                                                   9328 non-null   float64\n",
      " 18  wind1                                                   9328 non-null   float64\n",
      " 19  dew1                                                    9328 non-null   float64\n",
      "dtypes: float64(20)\n",
      "memory usage: 1.4 MB\n"
     ]
    }
   ],
   "source": [
    "X.info()"
   ]
  },
  {
   "cell_type": "code",
   "execution_count": 36,
   "metadata": {},
   "outputs": [
    {
     "data": {
      "text/plain": [
       "2.0    3264\n",
       "0.0    3124\n",
       "1.0    2939\n",
       "Name: Cloud_numerical, dtype: int64"
      ]
     },
     "execution_count": 36,
     "metadata": {},
     "output_type": "execute_result"
    }
   ],
   "source": [
    "X['Cloud_numerical'].value_counts()"
   ]
  },
  {
   "cell_type": "code",
   "execution_count": 41,
   "metadata": {},
   "outputs": [
    {
     "data": {
      "text/plain": [
       "1"
      ]
     },
     "execution_count": 41,
     "metadata": {},
     "output_type": "execute_result"
    }
   ],
   "source": [
    "X['Cloud_numerical'].isna().sum()"
   ]
  },
  {
   "cell_type": "code",
   "execution_count": 42,
   "metadata": {},
   "outputs": [],
   "source": [
    "X['Cloud_numerical'].fillna(0, inplace = True)"
   ]
  },
  {
   "cell_type": "code",
   "execution_count": 43,
   "metadata": {},
   "outputs": [
    {
     "name": "stdout",
     "output_type": "stream",
     "text": [
      "<class 'pandas.core.frame.DataFrame'>\n",
      "RangeIndex: 9328 entries, 0 to 9327\n",
      "Data columns (total 20 columns):\n",
      " #   Column                                                  Non-Null Count  Dtype  \n",
      "---  ------                                                  --------------  -----  \n",
      " 0   Net Generation (MW)                                     9328 non-null   float64\n",
      " 1   Total Interchange (MW)                                  9328 non-null   float64\n",
      " 2   Sum(Valid DIBAs) (MW)                                   9328 non-null   float64\n",
      " 3   Demand (MW) (Adjusted)                                  9328 non-null   float64\n",
      " 4   Net Generation (MW) (Adjusted)                          9328 non-null   float64\n",
      " 5   Net Generation (MW) from Coal                           9328 non-null   float64\n",
      " 6   Net Generation (MW) from Natural Gas                    9328 non-null   float64\n",
      " 7   Net Generation (MW) from Nuclear                        9328 non-null   float64\n",
      " 8   Net Generation (MW) from Hydropower and Pumped Storage  9328 non-null   float64\n",
      " 9   Net Generation (MW) from Solar                          9328 non-null   float64\n",
      " 10  Net Generation (MW) from Wind                           9328 non-null   float64\n",
      " 11  Net Generation (MW) from Other Fuel Sources             9328 non-null   float64\n",
      " 12  Net Generation Delta                                    9328 non-null   float64\n",
      " 13  Cloud_numerical                                         9328 non-null   float64\n",
      " 14  humdity1                                                9328 non-null   float64\n",
      " 15  precip1                                                 9328 non-null   float64\n",
      " 16  pressure1                                               9328 non-null   float64\n",
      " 17  temp1                                                   9328 non-null   float64\n",
      " 18  wind1                                                   9328 non-null   float64\n",
      " 19  dew1                                                    9328 non-null   float64\n",
      "dtypes: float64(20)\n",
      "memory usage: 1.4 MB\n"
     ]
    }
   ],
   "source": [
    "X.info()"
   ]
  },
  {
   "cell_type": "code",
   "execution_count": 45,
   "metadata": {},
   "outputs": [
    {
     "name": "stdout",
     "output_type": "stream",
     "text": [
      "<class 'pandas.core.frame.DataFrame'>\n",
      "RangeIndex: 9328 entries, 0 to 9327\n",
      "Data columns (total 20 columns):\n",
      " #   Column                                                  Non-Null Count  Dtype  \n",
      "---  ------                                                  --------------  -----  \n",
      " 0   Net Generation (MW)                                     9328 non-null   float64\n",
      " 1   Total Interchange (MW)                                  9328 non-null   float64\n",
      " 2   Sum(Valid DIBAs) (MW)                                   9328 non-null   float64\n",
      " 3   Demand (MW) (Adjusted)                                  9328 non-null   float64\n",
      " 4   Net Generation (MW) (Adjusted)                          9328 non-null   float64\n",
      " 5   Net Generation (MW) from Coal                           9328 non-null   float64\n",
      " 6   Net Generation (MW) from Natural Gas                    9328 non-null   float64\n",
      " 7   Net Generation (MW) from Nuclear                        9328 non-null   float64\n",
      " 8   Net Generation (MW) from Hydropower and Pumped Storage  9328 non-null   float64\n",
      " 9   Net Generation (MW) from Solar                          9328 non-null   float64\n",
      " 10  Net Generation (MW) from Wind                           9328 non-null   float64\n",
      " 11  Net Generation (MW) from Other Fuel Sources             9328 non-null   float64\n",
      " 12  Net Generation Delta                                    9328 non-null   float64\n",
      " 13  Cloud_numerical                                         9328 non-null   float64\n",
      " 14  humdity1                                                9328 non-null   float64\n",
      " 15  precip1                                                 9328 non-null   float64\n",
      " 16  pressure1                                               9328 non-null   float64\n",
      " 17  temp1                                                   9328 non-null   float64\n",
      " 18  wind1                                                   9328 non-null   float64\n",
      " 19  dew1                                                    9328 non-null   float64\n",
      "dtypes: float64(20)\n",
      "memory usage: 1.4 MB\n"
     ]
    }
   ],
   "source": [
    "X.info()"
   ]
  },
  {
   "cell_type": "code",
   "execution_count": 47,
   "metadata": {},
   "outputs": [
    {
     "data": {
      "text/plain": [
       "0"
      ]
     },
     "execution_count": 47,
     "metadata": {},
     "output_type": "execute_result"
    }
   ],
   "source": [
    "y.isna().sum()"
   ]
  },
  {
   "cell_type": "code",
   "execution_count": 48,
   "metadata": {},
   "outputs": [
    {
     "data": {
      "text/plain": [
       "Net Generation (MW)                                       0\n",
       "Total Interchange (MW)                                    0\n",
       "Sum(Valid DIBAs) (MW)                                     0\n",
       "Demand (MW) (Adjusted)                                    0\n",
       "Net Generation (MW) (Adjusted)                            0\n",
       "Net Generation (MW) from Coal                             0\n",
       "Net Generation (MW) from Natural Gas                      0\n",
       "Net Generation (MW) from Nuclear                          0\n",
       "Net Generation (MW) from Hydropower and Pumped Storage    0\n",
       "Net Generation (MW) from Solar                            0\n",
       "Net Generation (MW) from Wind                             0\n",
       "Net Generation (MW) from Other Fuel Sources               0\n",
       "Net Generation Delta                                      0\n",
       "Cloud_numerical                                           0\n",
       "humdity1                                                  0\n",
       "precip1                                                   0\n",
       "pressure1                                                 0\n",
       "temp1                                                     0\n",
       "wind1                                                     0\n",
       "dew1                                                      0\n",
       "dtype: int64"
      ]
     },
     "execution_count": 48,
     "metadata": {},
     "output_type": "execute_result"
    }
   ],
   "source": [
    "X.isna().sum()"
   ]
  },
  {
   "cell_type": "code",
   "execution_count": 53,
   "metadata": {},
   "outputs": [
    {
     "name": "stdout",
     "output_type": "stream",
     "text": [
      "For RandomForestRegressor(n_jobs=-1, random_state=1), the neg_mean_squared_error score is 628431.63\n",
      "For RandomForestRegressor(n_jobs=-1, random_state=1), the r2 score is 0.69\n",
      "For GradientBoostingRegressor(random_state=1), the neg_mean_squared_error score is 1243764.94\n",
      "For GradientBoostingRegressor(random_state=1), the r2 score is 0.38\n",
      "For DecisionTreeRegressor(random_state=1), the neg_mean_squared_error score is 1348686.15\n",
      "For DecisionTreeRegressor(random_state=1), the r2 score is 0.32\n"
     ]
    }
   ],
   "source": [
    "for model in [rf, gdbr, dtr]:\n",
    "    for score in ['neg_mean_squared_error', 'r2']:\n",
    "        score_val = np.mean(cross_val_score(model, X_train, y_train, scoring=score, cv=5))\n",
    "        if score == 'neg_mean_squared_error':\n",
    "            score_val *= -1\n",
    "        print(f'For {model}, the {score} score is {score_val:.2f}')"
   ]
  },
  {
   "cell_type": "code",
   "execution_count": 54,
   "metadata": {},
   "outputs": [
    {
     "name": "stdout",
     "output_type": "stream",
     "text": [
      "Fitting 5 folds for each of 288 candidates, totalling 1440 fits\n"
     ]
    },
    {
     "name": "stderr",
     "output_type": "stream",
     "text": [
      "[Parallel(n_jobs=-1)]: Using backend LokyBackend with 4 concurrent workers.\n",
      "[Parallel(n_jobs=-1)]: Done  42 tasks      | elapsed:    3.2s\n",
      "[Parallel(n_jobs=-1)]: Done 192 tasks      | elapsed:   12.6s\n",
      "[Parallel(n_jobs=-1)]: Done 442 tasks      | elapsed:   54.9s\n",
      "[Parallel(n_jobs=-1)]: Done 792 tasks      | elapsed:  2.9min\n",
      "[Parallel(n_jobs=-1)]: Done 1242 tasks      | elapsed:  4.6min\n",
      "[Parallel(n_jobs=-1)]: Done 1440 out of 1440 | elapsed:  7.4min finished\n"
     ]
    },
    {
     "name": "stdout",
     "output_type": "stream",
     "text": [
      "best parameters: {'bootstrap': False, 'max_depth': None, 'max_features': 'sqrt', 'min_samples_leaf': 1, 'min_samples_split': 2, 'n_estimators': 80, 'random_state': 1}\n",
      "469772.5875102157\n",
      "538342.6214298499\n"
     ]
    }
   ],
   "source": [
    "def plot_stage_score(ax, estimator, X_train, y_train, X_test, y_test):\n",
    "    '''\n",
    "    Parameters: ax: a Matplotlib axis object, on which the graph will be plotted\n",
    "                estimator: GradientBoostingRegressor\n",
    "                X_train: 2d numpy array\n",
    "                y_train: 1d numpy array\n",
    "                X_test: 2d numpy array\n",
    "                y_test: 1d numpy array\n",
    "    Returns: A plot of the number of iterations vs the MSE for the model for\n",
    "    both the training set and test set.\n",
    "    '''\n",
    "    mse_results_test = []\n",
    "    estimator.fit(X_train, y_train)\n",
    "    mse_results_train = [mean_squared_error(y_train, y_pred) for y_pred in estimator.staged_predict(X_train)]\n",
    "    for y_pred in estimator.staged_predict(X_test):\n",
    "        mse = mean_squared_error(y_test, y_pred)\n",
    "        mse_results_test.append(mse)\n",
    "    ax.plot(range(len(mse_results_train)), mse_results_train, label=f'Training MSE: {estimator.learning_rate}')\n",
    "    ax.plot(range(len(mse_results_test)), mse_results_test, label=f'Testing MSE: {estimator.learning_rate}')\n",
    "    \n",
    "    ax.set_ylabel('MSE')\n",
    "    ax.set_xlabel('Iteration Number')\n",
    "    ax.set_title('Gradient Boosting Error plot after Each Iteration')\n",
    "    ax.legend()\n",
    "\n",
    "# fig, ax = plt.subplots()\n",
    "# plot_stage_score(ax, gdbr, X_train, y_train, X_test, y_test)\n",
    "# plot_stage_score(ax, gdbr_bad, X_train, y_train, X_test, y_test)\n",
    "# rf.fit(X_train, y_train)\n",
    "# y_pred = rf.predict(X_test)\n",
    "# mse = mean_squared_error(y_test, y_pred)\n",
    "# ax.hlines(mse, 0, 100, ls='--', alpha=0.75, label='Random Forest test')\n",
    "# plt.show()\n",
    "\n",
    "\n",
    "random_forest_grid = {'max_depth': [3, None],\n",
    "                      'max_features': ['sqrt', 'log2', None],\n",
    "                      'min_samples_split': [2, 4],\n",
    "                      'min_samples_leaf': [1, 2, 4],\n",
    "                      'bootstrap': [True, False],\n",
    "                      'n_estimators': [10, 20, 40, 80],\n",
    "                      'random_state': [1]}\n",
    "\n",
    "rf_gridsearch = GridSearchCV(RandomForestRegressor(),\n",
    "                             random_forest_grid,\n",
    "                             n_jobs=-1,\n",
    "                             verbose=True,\n",
    "                             scoring='neg_mean_squared_error')\n",
    "rf_gridsearch.fit(X_train, y_train)\n",
    "\n",
    "print(\"best parameters:\", rf_gridsearch.best_params_)\n",
    "\n",
    "best_rf_model = rf_gridsearch.best_estimator_\n",
    "\n",
    "print(mean_squared_error(y_test, best_rf_model.predict(X_test)))\n",
    "\n",
    "default_model = RandomForestRegressor()\n",
    "default_model.fit(X_train, y_train)\n",
    "print(mean_squared_error(y_test, default_model.predict(X_test)))"
   ]
  },
  {
   "cell_type": "code",
   "execution_count": 58,
   "metadata": {},
   "outputs": [
    {
     "name": "stderr",
     "output_type": "stream",
     "text": [
      "/Users/cp/opt/anaconda3/lib/python3.7/site-packages/sklearn/model_selection/_split.py:672: UserWarning: The least populated class in y has only 1 members, which is less than n_splits=5.\n",
      "  % (min_groups, self.n_splits)), UserWarning)\n",
      "/Users/cp/opt/anaconda3/lib/python3.7/site-packages/sklearn/linear_model/_logistic.py:764: ConvergenceWarning: lbfgs failed to converge (status=1):\n",
      "STOP: TOTAL NO. of ITERATIONS REACHED LIMIT.\n",
      "\n",
      "Increase the number of iterations (max_iter) or scale the data as shown in:\n",
      "    https://scikit-learn.org/stable/modules/preprocessing.html\n",
      "Please also refer to the documentation for alternative solver options:\n",
      "    https://scikit-learn.org/stable/modules/linear_model.html#logistic-regression\n",
      "  extra_warning_msg=_LOGISTIC_SOLVER_CONVERGENCE_MSG)\n",
      "/Users/cp/opt/anaconda3/lib/python3.7/site-packages/sklearn/linear_model/_logistic.py:764: ConvergenceWarning: lbfgs failed to converge (status=1):\n",
      "STOP: TOTAL NO. of ITERATIONS REACHED LIMIT.\n",
      "\n",
      "Increase the number of iterations (max_iter) or scale the data as shown in:\n",
      "    https://scikit-learn.org/stable/modules/preprocessing.html\n",
      "Please also refer to the documentation for alternative solver options:\n",
      "    https://scikit-learn.org/stable/modules/linear_model.html#logistic-regression\n",
      "  extra_warning_msg=_LOGISTIC_SOLVER_CONVERGENCE_MSG)\n",
      "/Users/cp/opt/anaconda3/lib/python3.7/site-packages/sklearn/linear_model/_logistic.py:764: ConvergenceWarning: lbfgs failed to converge (status=1):\n",
      "STOP: TOTAL NO. of ITERATIONS REACHED LIMIT.\n",
      "\n",
      "Increase the number of iterations (max_iter) or scale the data as shown in:\n",
      "    https://scikit-learn.org/stable/modules/preprocessing.html\n",
      "Please also refer to the documentation for alternative solver options:\n",
      "    https://scikit-learn.org/stable/modules/linear_model.html#logistic-regression\n",
      "  extra_warning_msg=_LOGISTIC_SOLVER_CONVERGENCE_MSG)\n",
      "/Users/cp/opt/anaconda3/lib/python3.7/site-packages/sklearn/linear_model/_logistic.py:764: ConvergenceWarning: lbfgs failed to converge (status=1):\n",
      "STOP: TOTAL NO. of ITERATIONS REACHED LIMIT.\n",
      "\n",
      "Increase the number of iterations (max_iter) or scale the data as shown in:\n",
      "    https://scikit-learn.org/stable/modules/preprocessing.html\n",
      "Please also refer to the documentation for alternative solver options:\n",
      "    https://scikit-learn.org/stable/modules/linear_model.html#logistic-regression\n",
      "  extra_warning_msg=_LOGISTIC_SOLVER_CONVERGENCE_MSG)\n",
      "/Users/cp/opt/anaconda3/lib/python3.7/site-packages/sklearn/linear_model/_logistic.py:764: ConvergenceWarning: lbfgs failed to converge (status=1):\n",
      "STOP: TOTAL NO. of ITERATIONS REACHED LIMIT.\n",
      "\n",
      "Increase the number of iterations (max_iter) or scale the data as shown in:\n",
      "    https://scikit-learn.org/stable/modules/preprocessing.html\n",
      "Please also refer to the documentation for alternative solver options:\n",
      "    https://scikit-learn.org/stable/modules/linear_model.html#logistic-regression\n",
      "  extra_warning_msg=_LOGISTIC_SOLVER_CONVERGENCE_MSG)\n",
      "/Users/cp/opt/anaconda3/lib/python3.7/site-packages/numpy/core/_asarray.py:83: VisibleDeprecationWarning: Creating an ndarray from ragged nested sequences (which is a list-or-tuple of lists-or-tuples-or ndarrays with different lengths or shapes) is deprecated. If you meant to do this, you must specify 'dtype=object' when creating the ndarray\n",
      "  return array(a, dtype, copy=False, order=order)\n"
     ]
    },
    {
     "ename": "ValueError",
     "evalue": "could not broadcast input array from shape (10,3169,21) into shape (10)",
     "output_type": "error",
     "traceback": [
      "\u001b[0;31m---------------------------------------------------------------------------\u001b[0m",
      "\u001b[0;31mValueError\u001b[0m                                Traceback (most recent call last)",
      "\u001b[0;32m<ipython-input-58-559880990082>\u001b[0m in \u001b[0;36m<module>\u001b[0;34m\u001b[0m\n\u001b[1;32m      1\u001b[0m \u001b[0mlogRegRidge\u001b[0m \u001b[0;34m=\u001b[0m \u001b[0mLogisticRegressionCV\u001b[0m\u001b[0;34m(\u001b[0m\u001b[0mpenalty\u001b[0m\u001b[0;34m=\u001b[0m\u001b[0;34m'l2'\u001b[0m\u001b[0;34m,\u001b[0m \u001b[0mmax_iter\u001b[0m\u001b[0;34m=\u001b[0m\u001b[0;36m200\u001b[0m\u001b[0;34m)\u001b[0m\u001b[0;34m\u001b[0m\u001b[0;34m\u001b[0m\u001b[0m\n\u001b[0;32m----> 2\u001b[0;31m \u001b[0mlogRegRidge\u001b[0m\u001b[0;34m.\u001b[0m\u001b[0mfit\u001b[0m\u001b[0;34m(\u001b[0m\u001b[0mX_train\u001b[0m\u001b[0;34m,\u001b[0m \u001b[0my_train\u001b[0m\u001b[0;34m)\u001b[0m\u001b[0;34m\u001b[0m\u001b[0;34m\u001b[0m\u001b[0m\n\u001b[0m\u001b[1;32m      3\u001b[0m \u001b[0mprint\u001b[0m\u001b[0;34m(\u001b[0m\u001b[0;34mf'Ridge Coefficients:{logRegRidge.coef_}'\u001b[0m\u001b[0;34m)\u001b[0m\u001b[0;34m\u001b[0m\u001b[0;34m\u001b[0m\u001b[0m\n\u001b[1;32m      4\u001b[0m \u001b[0;34m\u001b[0m\u001b[0m\n\u001b[1;32m      5\u001b[0m \u001b[0mlogReg_pred_p\u001b[0m \u001b[0;34m=\u001b[0m \u001b[0mlogRegRidge\u001b[0m\u001b[0;34m.\u001b[0m\u001b[0mpredict_proba\u001b[0m\u001b[0;34m(\u001b[0m\u001b[0mX_test\u001b[0m\u001b[0;34m)\u001b[0m\u001b[0;34m\u001b[0m\u001b[0;34m\u001b[0m\u001b[0m\n",
      "\u001b[0;32m~/opt/anaconda3/lib/python3.7/site-packages/sklearn/linear_model/_logistic.py\u001b[0m in \u001b[0;36mfit\u001b[0;34m(self, X, y, sample_weight)\u001b[0m\n\u001b[1;32m   1917\u001b[0m             coefs_paths = np.reshape(\n\u001b[1;32m   1918\u001b[0m                 \u001b[0mcoefs_paths\u001b[0m\u001b[0;34m,\u001b[0m\u001b[0;34m\u001b[0m\u001b[0;34m\u001b[0m\u001b[0m\n\u001b[0;32m-> 1919\u001b[0;31m                 \u001b[0;34m(\u001b[0m\u001b[0mlen\u001b[0m\u001b[0;34m(\u001b[0m\u001b[0mfolds\u001b[0m\u001b[0;34m)\u001b[0m\u001b[0;34m,\u001b[0m  \u001b[0mlen\u001b[0m\u001b[0;34m(\u001b[0m\u001b[0ml1_ratios_\u001b[0m\u001b[0;34m)\u001b[0m \u001b[0;34m*\u001b[0m \u001b[0mlen\u001b[0m\u001b[0;34m(\u001b[0m\u001b[0mself\u001b[0m\u001b[0;34m.\u001b[0m\u001b[0mCs_\u001b[0m\u001b[0;34m)\u001b[0m\u001b[0;34m,\u001b[0m \u001b[0mn_classes\u001b[0m\u001b[0;34m,\u001b[0m \u001b[0;34m-\u001b[0m\u001b[0;36m1\u001b[0m\u001b[0;34m)\u001b[0m\u001b[0;34m\u001b[0m\u001b[0;34m\u001b[0m\u001b[0m\n\u001b[0m\u001b[1;32m   1920\u001b[0m             )\n\u001b[1;32m   1921\u001b[0m             \u001b[0;31m# equiv to coefs_paths = np.moveaxis(coefs_paths, (0, 1, 2, 3),\u001b[0m\u001b[0;34m\u001b[0m\u001b[0;34m\u001b[0m\u001b[0;34m\u001b[0m\u001b[0m\n",
      "\u001b[0;32m<__array_function__ internals>\u001b[0m in \u001b[0;36mreshape\u001b[0;34m(*args, **kwargs)\u001b[0m\n",
      "\u001b[0;32m~/opt/anaconda3/lib/python3.7/site-packages/numpy/core/fromnumeric.py\u001b[0m in \u001b[0;36mreshape\u001b[0;34m(a, newshape, order)\u001b[0m\n\u001b[1;32m    297\u001b[0m            [5, 6]])\n\u001b[1;32m    298\u001b[0m     \"\"\"\n\u001b[0;32m--> 299\u001b[0;31m     \u001b[0;32mreturn\u001b[0m \u001b[0m_wrapfunc\u001b[0m\u001b[0;34m(\u001b[0m\u001b[0ma\u001b[0m\u001b[0;34m,\u001b[0m \u001b[0;34m'reshape'\u001b[0m\u001b[0;34m,\u001b[0m \u001b[0mnewshape\u001b[0m\u001b[0;34m,\u001b[0m \u001b[0morder\u001b[0m\u001b[0;34m=\u001b[0m\u001b[0morder\u001b[0m\u001b[0;34m)\u001b[0m\u001b[0;34m\u001b[0m\u001b[0;34m\u001b[0m\u001b[0m\n\u001b[0m\u001b[1;32m    300\u001b[0m \u001b[0;34m\u001b[0m\u001b[0m\n\u001b[1;32m    301\u001b[0m \u001b[0;34m\u001b[0m\u001b[0m\n",
      "\u001b[0;32m~/opt/anaconda3/lib/python3.7/site-packages/numpy/core/fromnumeric.py\u001b[0m in \u001b[0;36m_wrapfunc\u001b[0;34m(obj, method, *args, **kwds)\u001b[0m\n\u001b[1;32m     53\u001b[0m     \u001b[0mbound\u001b[0m \u001b[0;34m=\u001b[0m \u001b[0mgetattr\u001b[0m\u001b[0;34m(\u001b[0m\u001b[0mobj\u001b[0m\u001b[0;34m,\u001b[0m \u001b[0mmethod\u001b[0m\u001b[0;34m,\u001b[0m \u001b[0;32mNone\u001b[0m\u001b[0;34m)\u001b[0m\u001b[0;34m\u001b[0m\u001b[0;34m\u001b[0m\u001b[0m\n\u001b[1;32m     54\u001b[0m     \u001b[0;32mif\u001b[0m \u001b[0mbound\u001b[0m \u001b[0;32mis\u001b[0m \u001b[0;32mNone\u001b[0m\u001b[0;34m:\u001b[0m\u001b[0;34m\u001b[0m\u001b[0;34m\u001b[0m\u001b[0m\n\u001b[0;32m---> 55\u001b[0;31m         \u001b[0;32mreturn\u001b[0m \u001b[0m_wrapit\u001b[0m\u001b[0;34m(\u001b[0m\u001b[0mobj\u001b[0m\u001b[0;34m,\u001b[0m \u001b[0mmethod\u001b[0m\u001b[0;34m,\u001b[0m \u001b[0;34m*\u001b[0m\u001b[0margs\u001b[0m\u001b[0;34m,\u001b[0m \u001b[0;34m**\u001b[0m\u001b[0mkwds\u001b[0m\u001b[0;34m)\u001b[0m\u001b[0;34m\u001b[0m\u001b[0;34m\u001b[0m\u001b[0m\n\u001b[0m\u001b[1;32m     56\u001b[0m \u001b[0;34m\u001b[0m\u001b[0m\n\u001b[1;32m     57\u001b[0m     \u001b[0;32mtry\u001b[0m\u001b[0;34m:\u001b[0m\u001b[0;34m\u001b[0m\u001b[0;34m\u001b[0m\u001b[0m\n",
      "\u001b[0;32m~/opt/anaconda3/lib/python3.7/site-packages/numpy/core/fromnumeric.py\u001b[0m in \u001b[0;36m_wrapit\u001b[0;34m(obj, method, *args, **kwds)\u001b[0m\n\u001b[1;32m     42\u001b[0m     \u001b[0;32mexcept\u001b[0m \u001b[0mAttributeError\u001b[0m\u001b[0;34m:\u001b[0m\u001b[0;34m\u001b[0m\u001b[0;34m\u001b[0m\u001b[0m\n\u001b[1;32m     43\u001b[0m         \u001b[0mwrap\u001b[0m \u001b[0;34m=\u001b[0m \u001b[0;32mNone\u001b[0m\u001b[0;34m\u001b[0m\u001b[0;34m\u001b[0m\u001b[0m\n\u001b[0;32m---> 44\u001b[0;31m     \u001b[0mresult\u001b[0m \u001b[0;34m=\u001b[0m \u001b[0mgetattr\u001b[0m\u001b[0;34m(\u001b[0m\u001b[0masarray\u001b[0m\u001b[0;34m(\u001b[0m\u001b[0mobj\u001b[0m\u001b[0;34m)\u001b[0m\u001b[0;34m,\u001b[0m \u001b[0mmethod\u001b[0m\u001b[0;34m)\u001b[0m\u001b[0;34m(\u001b[0m\u001b[0;34m*\u001b[0m\u001b[0margs\u001b[0m\u001b[0;34m,\u001b[0m \u001b[0;34m**\u001b[0m\u001b[0mkwds\u001b[0m\u001b[0;34m)\u001b[0m\u001b[0;34m\u001b[0m\u001b[0;34m\u001b[0m\u001b[0m\n\u001b[0m\u001b[1;32m     45\u001b[0m     \u001b[0;32mif\u001b[0m \u001b[0mwrap\u001b[0m\u001b[0;34m:\u001b[0m\u001b[0;34m\u001b[0m\u001b[0;34m\u001b[0m\u001b[0m\n\u001b[1;32m     46\u001b[0m         \u001b[0;32mif\u001b[0m \u001b[0;32mnot\u001b[0m \u001b[0misinstance\u001b[0m\u001b[0;34m(\u001b[0m\u001b[0mresult\u001b[0m\u001b[0;34m,\u001b[0m \u001b[0mmu\u001b[0m\u001b[0;34m.\u001b[0m\u001b[0mndarray\u001b[0m\u001b[0;34m)\u001b[0m\u001b[0;34m:\u001b[0m\u001b[0;34m\u001b[0m\u001b[0;34m\u001b[0m\u001b[0m\n",
      "\u001b[0;32m~/opt/anaconda3/lib/python3.7/site-packages/numpy/core/_asarray.py\u001b[0m in \u001b[0;36masarray\u001b[0;34m(a, dtype, order)\u001b[0m\n\u001b[1;32m     81\u001b[0m \u001b[0;34m\u001b[0m\u001b[0m\n\u001b[1;32m     82\u001b[0m     \"\"\"\n\u001b[0;32m---> 83\u001b[0;31m     \u001b[0;32mreturn\u001b[0m \u001b[0marray\u001b[0m\u001b[0;34m(\u001b[0m\u001b[0ma\u001b[0m\u001b[0;34m,\u001b[0m \u001b[0mdtype\u001b[0m\u001b[0;34m,\u001b[0m \u001b[0mcopy\u001b[0m\u001b[0;34m=\u001b[0m\u001b[0;32mFalse\u001b[0m\u001b[0;34m,\u001b[0m \u001b[0morder\u001b[0m\u001b[0;34m=\u001b[0m\u001b[0morder\u001b[0m\u001b[0;34m)\u001b[0m\u001b[0;34m\u001b[0m\u001b[0;34m\u001b[0m\u001b[0m\n\u001b[0m\u001b[1;32m     84\u001b[0m \u001b[0;34m\u001b[0m\u001b[0m\n\u001b[1;32m     85\u001b[0m \u001b[0;34m\u001b[0m\u001b[0m\n",
      "\u001b[0;31mValueError\u001b[0m: could not broadcast input array from shape (10,3169,21) into shape (10)"
     ]
    }
   ],
   "source": [
    "logRegRidge = LogisticRegressionCV(penalty='l2', max_iter=200)\n",
    "logRegRidge.fit(X_train, y_train)\n",
    "print(f'Ridge Coefficients:{logRegRidge.coef_}')\n",
    "    \n",
    "logReg_pred_p = logRegRidge.predict_proba(X_test)\n",
    "y_pred = logRegRidge.predict(X_test)\n",
    "    \n",
    "# Lasso\n",
    "\n",
    "log_Reg_Lasso = LogisticRegressionCV(max_iter=200)\n",
    "log_Reg_Lasso.fit(X_train, y_train)\n",
    "print(f'Lasso Coefficients:{log_Reg_Lasso.coef_}')\n",
    "    \n",
    "log_Reg_Lasso_pred_p = log_Reg_Lasso.predict_proba(X_test)\n",
    "y_pred = log_Reg_Lasso.predict(X_test) "
   ]
  },
  {
   "cell_type": "code",
   "execution_count": null,
   "metadata": {},
   "outputs": [],
   "source": []
  }
 ],
 "metadata": {
  "kernelspec": {
   "display_name": "Python 3",
   "language": "python",
   "name": "python3"
  },
  "language_info": {
   "codemirror_mode": {
    "name": "ipython",
    "version": 3
   },
   "file_extension": ".py",
   "mimetype": "text/x-python",
   "name": "python",
   "nbconvert_exporter": "python",
   "pygments_lexer": "ipython3",
   "version": "3.7.9"
  }
 },
 "nbformat": 4,
 "nbformat_minor": 4
}
